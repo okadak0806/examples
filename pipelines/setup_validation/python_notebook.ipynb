{
 "cells": [
  {
   "cell_type": "markdown",
   "id": "33fb9010-4d65-4a5a-8c64-67611fd202fe",
   "metadata": {
    "papermill": {
     "duration": 0.000877,
     "end_time": "2025-05-04T22:44:01.964701",
     "exception": false,
     "start_time": "2025-05-04T22:44:01.963824",
     "status": "completed"
    },
    "tags": []
   },
   "source": [
    "This notebook is only used for test purposes. It should run as is in any environment that has a Python kernel installed."
   ]
  },
  {
   "cell_type": "code",
   "execution_count": 1,
   "id": "8a98f6cc-2103-4d82-97fc-6534d68b22bb",
   "metadata": {
    "execution": {
     "iopub.execute_input": "2025-05-04T22:44:01.968541Z",
     "iopub.status.busy": "2025-05-04T22:44:01.967874Z",
     "iopub.status.idle": "2025-05-04T22:44:01.974055Z",
     "shell.execute_reply": "2025-05-04T22:44:01.973101Z"
    },
    "papermill": {
     "duration": 0.010092,
     "end_time": "2025-05-04T22:44:01.975970",
     "exception": false,
     "start_time": "2025-05-04T22:44:01.965878",
     "status": "completed"
    },
    "tags": []
   },
   "outputs": [
    {
     "name": "stdout",
     "output_type": "stream",
     "text": [
      "Hello from Python notebook\n"
     ]
    }
   ],
   "source": [
    "print('Hello from Python notebook')"
   ]
  }
 ],
 "metadata": {
  "kernelspec": {
   "display_name": "Python 3",
   "language": "python",
   "name": "python3"
  },
  "language_info": {
   "codemirror_mode": {
    "name": "ipython",
    "version": 3
   },
   "file_extension": ".py",
   "mimetype": "text/x-python",
   "name": "python",
   "nbconvert_exporter": "python",
   "pygments_lexer": "ipython3",
   "version": "3.12.2"
  },
  "papermill": {
   "default_parameters": {},
   "duration": 1.145291,
   "end_time": "2025-05-04T22:44:02.195506",
   "environment_variables": {},
   "exception": null,
   "input_path": "/home/okadak/examples/pipelines/setup_validation/python_notebook.ipynb",
   "output_path": "/home/okadak/examples/pipelines/setup_validation/python_notebook.ipynb",
   "parameters": {},
   "start_time": "2025-05-04T22:44:01.050215",
   "version": "2.6.0"
  }
 },
 "nbformat": 4,
 "nbformat_minor": 5
}