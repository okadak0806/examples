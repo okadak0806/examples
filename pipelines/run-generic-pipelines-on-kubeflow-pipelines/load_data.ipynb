{
 "cells": [
  {
   "cell_type": "markdown",
   "id": "10e2d643",
   "metadata": {
    "papermill": {
     "duration": 0.001589,
     "end_time": "2025-05-04T23:20:48.123405",
     "exception": false,
     "start_time": "2025-05-04T23:20:48.121816",
     "status": "completed"
    },
    "tags": []
   },
   "source": [
    "## Download a data set\n",
    "\n",
    "This notebook downloads a data set file from a public location. If the data set file is a compressed archive it will be decompressed. Upon completion the raw data set files  are located in the `data\\` directory.\n",
    "\n",
    "This notebook requires the following environment variables:\n",
    " -  `DATASET_URL` Public data set URL, e.g. `https://dax-cdn.cdn.appdomain.cloud/dax-fashion-mnist/1.0.2/fashion-mnist.tar.gz`"
   ]
  },
  {
   "cell_type": "code",
   "execution_count": 1,
   "id": "8a2f3aab",
   "metadata": {
    "execution": {
     "iopub.execute_input": "2025-05-04T23:20:48.127468Z",
     "iopub.status.busy": "2025-05-04T23:20:48.127191Z",
     "iopub.status.idle": "2025-05-04T23:20:48.174825Z",
     "shell.execute_reply": "2025-05-04T23:20:48.174087Z"
    },
    "papermill": {
     "duration": 0.051557,
     "end_time": "2025-05-04T23:20:48.176410",
     "exception": false,
     "start_time": "2025-05-04T23:20:48.124853",
     "status": "completed"
    },
    "tags": []
   },
   "outputs": [],
   "source": [
    "import glob\n",
    "import json\n",
    "import os\n",
    "from pathlib import Path\n",
    "import requests\n",
    "import tarfile\n",
    "from urllib.parse import urlparse"
   ]
  },
  {
   "cell_type": "markdown",
   "id": "0efbe465",
   "metadata": {
    "papermill": {
     "duration": 0.001623,
     "end_time": "2025-05-04T23:20:48.179635",
     "exception": false,
     "start_time": "2025-05-04T23:20:48.178012",
     "status": "completed"
    },
    "tags": []
   },
   "source": [
    "Verify that the `DATASET_URL` environment variable is set. If it is not set, a RuntimeError is raised."
   ]
  },
  {
   "cell_type": "code",
   "execution_count": 2,
   "id": "a4ffffc4",
   "metadata": {
    "execution": {
     "iopub.execute_input": "2025-05-04T23:20:48.183638Z",
     "iopub.status.busy": "2025-05-04T23:20:48.183271Z",
     "iopub.status.idle": "2025-05-04T23:20:48.187209Z",
     "shell.execute_reply": "2025-05-04T23:20:48.186354Z"
    },
    "papermill": {
     "duration": 0.007327,
     "end_time": "2025-05-04T23:20:48.188463",
     "exception": false,
     "start_time": "2025-05-04T23:20:48.181136",
     "status": "completed"
    },
    "tags": []
   },
   "outputs": [],
   "source": [
    "data_file = os.getenv('DATASET_URL',\n",
    "                      'https://dax-cdn.cdn.appdomain.cloud/'\n",
    "                      'dax-noaa-weather-data-jfk-airport/1.1.4/'\n",
    "                      'noaa-weather-data-jfk-airport.tar.gz')"
   ]
  },
  {
   "cell_type": "markdown",
   "id": "85cfa27c",
   "metadata": {
    "papermill": {
     "duration": 0.001254,
     "end_time": "2025-05-04T23:20:48.191025",
     "exception": false,
     "start_time": "2025-05-04T23:20:48.189771",
     "status": "completed"
    },
    "tags": []
   },
   "source": [
    "Download the data set from the location specified in `dataset_url`, extract it (if it is compressed) and store it in the directory identified by `data_dir_name`."
   ]
  },
  {
   "cell_type": "code",
   "execution_count": 3,
   "id": "3aabd20a",
   "metadata": {
    "execution": {
     "iopub.execute_input": "2025-05-04T23:20:48.194473Z",
     "iopub.status.busy": "2025-05-04T23:20:48.194252Z",
     "iopub.status.idle": "2025-05-04T23:20:48.693411Z",
     "shell.execute_reply": "2025-05-04T23:20:48.692426Z"
    },
    "papermill": {
     "duration": 0.502616,
     "end_time": "2025-05-04T23:20:48.694921",
     "exception": false,
     "start_time": "2025-05-04T23:20:48.192305",
     "status": "completed"
    },
    "tags": []
   },
   "outputs": [
    {
     "name": "stdout",
     "output_type": "stream",
     "text": [
      "Downloading data file https://dax-cdn.cdn.appdomain.cloud/dax-noaa-weather-data-jfk-airport/1.1.4/noaa-weather-data-jfk-airport.tar.gz ...\n"
     ]
    },
    {
     "name": "stdout",
     "output_type": "stream",
     "text": [
      "Saving downloaded file \"noaa-weather-data-jfk-airport.tar.gz\" as ...\n",
      "Extracting downloaded file in directory \"data\" ...\n",
      "Removing downloaded file ...\n"
     ]
    }
   ],
   "source": [
    "data_dir_name = 'data'\n",
    "\n",
    "print('Downloading data file {} ...'.format(data_file))\n",
    "r = requests.get(data_file)\n",
    "if r.status_code != 200:\n",
    "    raise RuntimeError('Could not fetch {}: HTTP status code {}'\n",
    "                       .format(data_file, r.status_code))\n",
    "else:\n",
    "    # extract data set file name from URL\n",
    "    data_file_name = Path((urlparse(data_file).path)).name\n",
    "    # create the directory where the downloaded file will be stored\n",
    "    data_dir = Path(data_dir_name)\n",
    "    data_dir.mkdir(parents=True, exist_ok=True)\n",
    "    downloaded_data_file = data_dir / data_file_name\n",
    "\n",
    "    print('Saving downloaded file \"{}\" as ...'.format(data_file_name))\n",
    "    with open(downloaded_data_file, 'wb') as downloaded_file:\n",
    "        downloaded_file.write(r.content)\n",
    "\n",
    "    if r.headers['content-type'] == 'application/x-tar':\n",
    "        print('Extracting downloaded file in directory \"{}\" ...'\n",
    "              .format(data_dir))\n",
    "        with tarfile.open(downloaded_data_file, 'r') as tar:\n",
    "            tar.extractall(data_dir)\n",
    "        print('Removing downloaded file ...')\n",
    "        downloaded_data_file.unlink()"
   ]
  },
  {
   "cell_type": "markdown",
   "id": "c0edca62",
   "metadata": {
    "papermill": {
     "duration": 0.00169,
     "end_time": "2025-05-04T23:20:48.698635",
     "exception": false,
     "start_time": "2025-05-04T23:20:48.696945",
     "status": "completed"
    },
    "tags": []
   },
   "source": [
    "Display list of extracted data files"
   ]
  },
  {
   "cell_type": "code",
   "execution_count": 4,
   "id": "d7d542ea",
   "metadata": {
    "execution": {
     "iopub.execute_input": "2025-05-04T23:20:48.725004Z",
     "iopub.status.busy": "2025-05-04T23:20:48.724072Z",
     "iopub.status.idle": "2025-05-04T23:20:48.729343Z",
     "shell.execute_reply": "2025-05-04T23:20:48.728292Z"
    },
    "papermill": {
     "duration": 0.022854,
     "end_time": "2025-05-04T23:20:48.731038",
     "exception": false,
     "start_time": "2025-05-04T23:20:48.708184",
     "status": "completed"
    },
    "tags": []
   },
   "outputs": [
    {
     "name": "stdout",
     "output_type": "stream",
     "text": [
      "data/noaa-weather-data-jfk-airport\n",
      "data/noaa-weather-data-jfk-airport/jfk_weather.csv\n",
      "data/noaa-weather-data-jfk-airport/clean_data.py\n",
      "data/noaa-weather-data-jfk-airport/LICENSE.txt\n",
      "data/noaa-weather-data-jfk-airport/jfk_weather_cleaned.csv\n",
      "data/noaa-weather-data-jfk-airport/README.txt\n"
     ]
    }
   ],
   "source": [
    "for entry in glob.glob(data_dir_name + \"/**/*\", recursive=True):\n",
    "    print(entry)"
   ]
  },
  {
   "cell_type": "markdown",
   "id": "f9c7cb8d",
   "metadata": {
    "papermill": {
     "duration": 0.020498,
     "end_time": "2025-05-04T23:20:48.755213",
     "exception": false,
     "start_time": "2025-05-04T23:20:48.734715",
     "status": "completed"
    },
    "tags": []
   },
   "source": [
    "A notebook can produce output that is visualized in the Kubeflow Pipelines UI. For illustrative purposes we log the data set download URL. Refer to the [documentation](https://elyra.readthedocs.io/en/latest/recipes/visualizing-output-in-the-kfp-ui.html) to learn about supported visualization types and additional examples."
   ]
  },
  {
   "cell_type": "code",
   "execution_count": 5,
   "id": "e0f2fcde",
   "metadata": {
    "execution": {
     "iopub.execute_input": "2025-05-04T23:20:48.775406Z",
     "iopub.status.busy": "2025-05-04T23:20:48.774870Z",
     "iopub.status.idle": "2025-05-04T23:20:48.780108Z",
     "shell.execute_reply": "2025-05-04T23:20:48.779240Z"
    },
    "papermill": {
     "duration": 0.011293,
     "end_time": "2025-05-04T23:20:48.781572",
     "exception": false,
     "start_time": "2025-05-04T23:20:48.770279",
     "status": "completed"
    },
    "tags": []
   },
   "outputs": [],
   "source": [
    "if os.environ.get('ELYRA_RUNTIME_ENV') == 'kfp':\n",
    "    # For information about Elyra environment variables refer to\n",
    "    # https://elyra.readthedocs.io/en/stable/user_guide/best-practices-file-based-nodes.html#proprietary-environment-variables # noqa: E501\n",
    "\n",
    "    metadata = {\n",
    "        'outputs': [\n",
    "            {\n",
    "                'storage': 'inline',\n",
    "                'source': '# Data archive URL: {}'\n",
    "                          .format(data_file),\n",
    "                'type': 'markdown',\n",
    "            }]\n",
    "    }\n",
    "\n",
    "    with open('mlpipeline-ui-metadata.json', 'w') as f:\n",
    "        json.dump(metadata, f)"
   ]
  }
 ],
 "metadata": {
  "kernelspec": {
   "display_name": "Python 3",
   "language": "python",
   "name": "python3"
  },
  "language_info": {
   "codemirror_mode": {
    "name": "ipython",
    "version": 3
   },
   "file_extension": ".py",
   "mimetype": "text/x-python",
   "name": "python",
   "nbconvert_exporter": "python",
   "pygments_lexer": "ipython3",
   "version": "3.12.2"
  },
  "papermill": {
   "duration": 1.770001,
   "end_time": "2025-05-04T23:20:49.002345",
   "environment_variables": {},
   "exception": null,
   "input_path": "/home/okadak/examples/pipelines/run-generic-pipelines-on-kubeflow-pipelines/load_data.ipynb",
   "output_path": "/home/okadak/examples/pipelines/run-generic-pipelines-on-kubeflow-pipelines/load_data.ipynb",
   "parameters": {},
   "start_time": "2025-05-04T23:20:47.232344",
   "version": "2.1.1"
  }
 },
 "nbformat": 4,
 "nbformat_minor": 5
}