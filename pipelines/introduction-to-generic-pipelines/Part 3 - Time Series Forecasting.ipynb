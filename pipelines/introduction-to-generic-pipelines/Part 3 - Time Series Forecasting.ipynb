{
 "cells": [
  {
   "cell_type": "markdown",
   "id": "04ab530e",
   "metadata": {
    "papermill": {
     "duration": 0.003228,
     "end_time": "2025-05-02T05:11:42.447213",
     "exception": false,
     "start_time": "2025-05-02T05:11:42.443985",
     "status": "completed"
    },
    "tags": []
   },
   "source": [
    "# Time Series Forecasting using the NOAA Weather Data of JFK Airport (New York)\n",
    "\n",
    "This notebook relates to the NOAA Weather Dataset - JFK Airport (New York). The dataset contains 114,546 hourly observations of 12 local climatological variables (such as temperature and wind speed) collected at JFK airport. This dataset can be obtained for free from the IBM Developer [Data Asset Exchange](https://developer.ibm.com/exchanges/data/all/jfk-weather-data/).\n",
    "\n",
    "In this notebook we explore approaches to predicting future temperatures by using the time-series dataset.\n",
    "\n",
    "### Table of Contents:\n",
    "* [1. Read the Cleaned Data](#cell1)\n",
    "* [2. Explore Baseline Models](#cell2)\n",
    "* [3. Train Statistical Time-series Analysis Models](#cell3)\n",
    "* [Authors](#cell4)\n",
    "\n",
    "#### Import required modules\n",
    "\n",
    "Import and configure the required modules."
   ]
  },
  {
   "cell_type": "code",
   "execution_count": 1,
   "id": "5a326fc3",
   "metadata": {
    "execution": {
     "iopub.execute_input": "2025-05-02T05:11:42.453863Z",
     "iopub.status.busy": "2025-05-02T05:11:42.453432Z",
     "iopub.status.idle": "2025-05-02T05:11:46.655423Z",
     "shell.execute_reply": "2025-05-02T05:11:46.654590Z"
    },
    "papermill": {
     "duration": 4.206762,
     "end_time": "2025-05-02T05:11:46.656704",
     "exception": false,
     "start_time": "2025-05-02T05:11:42.449942",
     "status": "completed"
    },
    "tags": []
   },
   "outputs": [
    {
     "name": "stdout",
     "output_type": "stream",
     "text": [
      "Requirement already satisfied: statsmodels in /opt/conda/lib/python3.9/site-packages (0.14.4)\r\n"
     ]
    },
    {
     "name": "stdout",
     "output_type": "stream",
     "text": [
      "Requirement already satisfied: scipy!=1.9.2,>=1.8 in /opt/conda/lib/python3.9/site-packages (from statsmodels) (1.13.1)\r\n",
      "Requirement already satisfied: packaging>=21.3 in /opt/conda/lib/python3.9/site-packages (from statsmodels) (25.0)\r\n",
      "Requirement already satisfied: pandas!=2.1.0,>=1.4 in /opt/conda/lib/python3.9/site-packages (from statsmodels) (2.2.3)\r\n",
      "Requirement already satisfied: numpy<3,>=1.22.3 in /opt/conda/lib/python3.9/site-packages (from statsmodels) (2.0.2)\r\n",
      "Requirement already satisfied: patsy>=0.5.6 in /opt/conda/lib/python3.9/site-packages (from statsmodels) (1.0.1)\r\n"
     ]
    },
    {
     "name": "stdout",
     "output_type": "stream",
     "text": [
      "Requirement already satisfied: python-dateutil>=2.8.2 in /opt/conda/lib/python3.9/site-packages (from pandas!=2.1.0,>=1.4->statsmodels) (2.8.2)\r\n",
      "Requirement already satisfied: tzdata>=2022.7 in /opt/conda/lib/python3.9/site-packages (from pandas!=2.1.0,>=1.4->statsmodels) (2025.2)\r\n",
      "Requirement already satisfied: pytz>=2020.1 in /opt/conda/lib/python3.9/site-packages (from pandas!=2.1.0,>=1.4->statsmodels) (2021.3)\r\n",
      "Requirement already satisfied: six>=1.5 in /opt/conda/lib/python3.9/site-packages (from python-dateutil>=2.8.2->pandas!=2.1.0,>=1.4->statsmodels) (1.16.0)\r\n"
     ]
    },
    {
     "name": "stdout",
     "output_type": "stream",
     "text": [
      "Requirement already satisfied: scikit-learn in /opt/conda/lib/python3.9/site-packages (1.6.1)\r\n"
     ]
    },
    {
     "name": "stdout",
     "output_type": "stream",
     "text": [
      "Requirement already satisfied: joblib>=1.2.0 in /opt/conda/lib/python3.9/site-packages (from scikit-learn) (1.4.2)\r\n",
      "Requirement already satisfied: numpy>=1.19.5 in /opt/conda/lib/python3.9/site-packages (from scikit-learn) (2.0.2)\r\n",
      "Requirement already satisfied: scipy>=1.6.0 in /opt/conda/lib/python3.9/site-packages (from scikit-learn) (1.13.1)\r\n",
      "Requirement already satisfied: threadpoolctl>=3.1.0 in /opt/conda/lib/python3.9/site-packages (from scikit-learn) (3.6.0)\r\n"
     ]
    },
    {
     "name": "stdout",
     "output_type": "stream",
     "text": [
      "Requirement already satisfied: matplotlib in /opt/conda/lib/python3.9/site-packages (3.9.4)\r\n",
      "Requirement already satisfied: kiwisolver>=1.3.1 in /opt/conda/lib/python3.9/site-packages (from matplotlib) (1.4.7)\r\n",
      "Requirement already satisfied: importlib-resources>=3.2.0 in /opt/conda/lib/python3.9/site-packages (from matplotlib) (5.4.0)\r\n",
      "Requirement already satisfied: cycler>=0.10 in /opt/conda/lib/python3.9/site-packages (from matplotlib) (0.12.1)\r\n",
      "Requirement already satisfied: pyparsing>=2.3.1 in /opt/conda/lib/python3.9/site-packages (from matplotlib) (2.4.7)\r\n"
     ]
    },
    {
     "name": "stdout",
     "output_type": "stream",
     "text": [
      "Requirement already satisfied: fonttools>=4.22.0 in /opt/conda/lib/python3.9/site-packages (from matplotlib) (4.57.0)\r\n",
      "Requirement already satisfied: packaging>=20.0 in /opt/conda/lib/python3.9/site-packages (from matplotlib) (25.0)\r\n",
      "Requirement already satisfied: contourpy>=1.0.1 in /opt/conda/lib/python3.9/site-packages (from matplotlib) (1.3.0)\r\n",
      "Requirement already satisfied: python-dateutil>=2.7 in /opt/conda/lib/python3.9/site-packages (from matplotlib) (2.8.2)\r\n",
      "Requirement already satisfied: pillow>=8 in /opt/conda/lib/python3.9/site-packages (from matplotlib) (11.2.1)\r\n",
      "Requirement already satisfied: numpy>=1.23 in /opt/conda/lib/python3.9/site-packages (from matplotlib) (2.0.2)\r\n",
      "Requirement already satisfied: zipp>=3.1.0 in /opt/conda/lib/python3.9/site-packages (from importlib-resources>=3.2.0->matplotlib) (3.21.0)\r\n"
     ]
    },
    {
     "name": "stdout",
     "output_type": "stream",
     "text": [
      "Requirement already satisfied: six>=1.5 in /opt/conda/lib/python3.9/site-packages (from python-dateutil>=2.7->matplotlib) (1.16.0)\r\n"
     ]
    }
   ],
   "source": [
    "!pip3 install statsmodels\n",
    "!pip3 install --upgrade scikit-learn\n",
    "!pip3 install matplotlib"
   ]
  },
  {
   "cell_type": "code",
   "execution_count": 2,
   "id": "7a62dc85",
   "metadata": {
    "execution": {
     "iopub.execute_input": "2025-05-02T05:11:46.663524Z",
     "iopub.status.busy": "2025-05-02T05:11:46.663163Z",
     "iopub.status.idle": "2025-05-02T05:11:47.402318Z",
     "shell.execute_reply": "2025-05-02T05:11:47.401103Z"
    },
    "papermill": {
     "duration": 0.744179,
     "end_time": "2025-05-02T05:11:47.403978",
     "exception": false,
     "start_time": "2025-05-02T05:11:46.659799",
     "status": "completed"
    },
    "tags": []
   },
   "outputs": [],
   "source": [
    "from matplotlib import pyplot as plt\n",
    "import numpy as np\n",
    "import pandas as pd\n",
    "from sklearn.metrics import mean_squared_error\n",
    "from statsmodels.tsa.statespace.sarimax import SARIMAX"
   ]
  },
  {
   "cell_type": "markdown",
   "id": "01444f67",
   "metadata": {
    "papermill": {
     "duration": 0.002693,
     "end_time": "2025-05-02T05:11:47.409794",
     "exception": false,
     "start_time": "2025-05-02T05:11:47.407101",
     "status": "completed"
    },
    "tags": []
   },
   "source": [
    "<a id=\"cell1\"></a>\n",
    "\n",
    "### 1. Read the Cleaned Data\n",
    "\n",
    "We start by reading the cleaned dataset that was created in notebook `Part 1 - Data Cleaning`. \n",
    "\n",
    "**Note:** if you haven't yet run this notebook, run it first; otherwise the cells below will not work."
   ]
  },
  {
   "cell_type": "code",
   "execution_count": 3,
   "id": "b08ff25f",
   "metadata": {
    "execution": {
     "iopub.execute_input": "2025-05-02T05:11:47.416573Z",
     "iopub.status.busy": "2025-05-02T05:11:47.415673Z",
     "iopub.status.idle": "2025-05-02T05:11:47.487342Z",
     "shell.execute_reply": "2025-05-02T05:11:47.486717Z"
    },
    "papermill": {
     "duration": 0.076088,
     "end_time": "2025-05-02T05:11:47.488396",
     "exception": false,
     "start_time": "2025-05-02T05:11:47.412308",
     "status": "completed"
    },
    "tags": []
   },
   "outputs": [],
   "source": [
    "data = pd.read_csv('data/noaa-weather-data-jfk-airport/jfk_weather_cleaned.csv', parse_dates=['DATE'])"
   ]
  },
  {
   "cell_type": "code",
   "execution_count": 4,
   "id": "1ca046c0",
   "metadata": {
    "execution": {
     "iopub.execute_input": "2025-05-02T05:11:47.495480Z",
     "iopub.status.busy": "2025-05-02T05:11:47.494897Z",
     "iopub.status.idle": "2025-05-02T05:11:47.562322Z",
     "shell.execute_reply": "2025-05-02T05:11:47.561739Z"
    },
    "papermill": {
     "duration": 0.071685,
     "end_time": "2025-05-02T05:11:47.563148",
     "exception": false,
     "start_time": "2025-05-02T05:11:47.491463",
     "status": "completed"
    },
    "tags": []
   },
   "outputs": [
    {
     "data": {
      "text/html": [
       "<div>\n",
       "<style scoped>\n",
       "    .dataframe tbody tr th:only-of-type {\n",
       "        vertical-align: middle;\n",
       "    }\n",
       "\n",
       "    .dataframe tbody tr th {\n",
       "        vertical-align: top;\n",
       "    }\n",
       "\n",
       "    .dataframe thead th {\n",
       "        text-align: right;\n",
       "    }\n",
       "</style>\n",
       "<table border=\"1\" class=\"dataframe\">\n",
       "  <thead>\n",
       "    <tr style=\"text-align: right;\">\n",
       "      <th></th>\n",
       "      <th>visibility</th>\n",
       "      <th>dry_bulb_temp_f</th>\n",
       "      <th>wet_bulb_temp_f</th>\n",
       "      <th>dew_point_temp_f</th>\n",
       "      <th>relative_humidity</th>\n",
       "      <th>wind_speed</th>\n",
       "      <th>station_pressure</th>\n",
       "      <th>sea_level_pressure</th>\n",
       "      <th>precip</th>\n",
       "      <th>altimeter_setting</th>\n",
       "      <th>wind_direction_sin</th>\n",
       "      <th>wind_direction_cos</th>\n",
       "      <th>pressure_tendency_incr</th>\n",
       "      <th>pressure_tendency_decr</th>\n",
       "      <th>pressure_tendency_const</th>\n",
       "    </tr>\n",
       "    <tr>\n",
       "      <th>DATE</th>\n",
       "      <th></th>\n",
       "      <th></th>\n",
       "      <th></th>\n",
       "      <th></th>\n",
       "      <th></th>\n",
       "      <th></th>\n",
       "      <th></th>\n",
       "      <th></th>\n",
       "      <th></th>\n",
       "      <th></th>\n",
       "      <th></th>\n",
       "      <th></th>\n",
       "      <th></th>\n",
       "      <th></th>\n",
       "      <th></th>\n",
       "    </tr>\n",
       "  </thead>\n",
       "  <tbody>\n",
       "    <tr>\n",
       "      <th>2010-01-01 01:00:00</th>\n",
       "      <td>6.0</td>\n",
       "      <td>33.0</td>\n",
       "      <td>32.0</td>\n",
       "      <td>31.0</td>\n",
       "      <td>92.0</td>\n",
       "      <td>0.0</td>\n",
       "      <td>29.97</td>\n",
       "      <td>29.99</td>\n",
       "      <td>0.01</td>\n",
       "      <td>29.99</td>\n",
       "      <td>0.0</td>\n",
       "      <td>1.0</td>\n",
       "      <td>0</td>\n",
       "      <td>1</td>\n",
       "      <td>0</td>\n",
       "    </tr>\n",
       "    <tr>\n",
       "      <th>2010-01-01 02:00:00</th>\n",
       "      <td>6.0</td>\n",
       "      <td>33.0</td>\n",
       "      <td>33.0</td>\n",
       "      <td>32.0</td>\n",
       "      <td>96.0</td>\n",
       "      <td>0.0</td>\n",
       "      <td>29.97</td>\n",
       "      <td>29.99</td>\n",
       "      <td>0.02</td>\n",
       "      <td>29.99</td>\n",
       "      <td>0.0</td>\n",
       "      <td>1.0</td>\n",
       "      <td>0</td>\n",
       "      <td>1</td>\n",
       "      <td>0</td>\n",
       "    </tr>\n",
       "    <tr>\n",
       "      <th>2010-01-01 03:00:00</th>\n",
       "      <td>5.0</td>\n",
       "      <td>33.0</td>\n",
       "      <td>33.0</td>\n",
       "      <td>32.0</td>\n",
       "      <td>96.0</td>\n",
       "      <td>0.0</td>\n",
       "      <td>29.97</td>\n",
       "      <td>29.99</td>\n",
       "      <td>0.00</td>\n",
       "      <td>29.99</td>\n",
       "      <td>0.0</td>\n",
       "      <td>1.0</td>\n",
       "      <td>0</td>\n",
       "      <td>1</td>\n",
       "      <td>0</td>\n",
       "    </tr>\n",
       "    <tr>\n",
       "      <th>2010-01-01 04:00:00</th>\n",
       "      <td>5.0</td>\n",
       "      <td>33.0</td>\n",
       "      <td>33.0</td>\n",
       "      <td>32.0</td>\n",
       "      <td>96.0</td>\n",
       "      <td>0.0</td>\n",
       "      <td>29.95</td>\n",
       "      <td>29.97</td>\n",
       "      <td>0.00</td>\n",
       "      <td>29.97</td>\n",
       "      <td>0.0</td>\n",
       "      <td>1.0</td>\n",
       "      <td>0</td>\n",
       "      <td>1</td>\n",
       "      <td>0</td>\n",
       "    </tr>\n",
       "    <tr>\n",
       "      <th>2010-01-01 05:00:00</th>\n",
       "      <td>5.0</td>\n",
       "      <td>33.0</td>\n",
       "      <td>32.0</td>\n",
       "      <td>31.0</td>\n",
       "      <td>92.0</td>\n",
       "      <td>0.0</td>\n",
       "      <td>29.93</td>\n",
       "      <td>29.96</td>\n",
       "      <td>0.00</td>\n",
       "      <td>29.95</td>\n",
       "      <td>0.0</td>\n",
       "      <td>1.0</td>\n",
       "      <td>0</td>\n",
       "      <td>1</td>\n",
       "      <td>0</td>\n",
       "    </tr>\n",
       "  </tbody>\n",
       "</table>\n",
       "</div>"
      ],
      "text/plain": [
       "                     visibility  dry_bulb_temp_f  wet_bulb_temp_f  \\\n",
       "DATE                                                                \n",
       "2010-01-01 01:00:00         6.0             33.0             32.0   \n",
       "2010-01-01 02:00:00         6.0             33.0             33.0   \n",
       "2010-01-01 03:00:00         5.0             33.0             33.0   \n",
       "2010-01-01 04:00:00         5.0             33.0             33.0   \n",
       "2010-01-01 05:00:00         5.0             33.0             32.0   \n",
       "\n",
       "                     dew_point_temp_f  relative_humidity  wind_speed  \\\n",
       "DATE                                                                   \n",
       "2010-01-01 01:00:00              31.0               92.0         0.0   \n",
       "2010-01-01 02:00:00              32.0               96.0         0.0   \n",
       "2010-01-01 03:00:00              32.0               96.0         0.0   \n",
       "2010-01-01 04:00:00              32.0               96.0         0.0   \n",
       "2010-01-01 05:00:00              31.0               92.0         0.0   \n",
       "\n",
       "                     station_pressure  sea_level_pressure  precip  \\\n",
       "DATE                                                                \n",
       "2010-01-01 01:00:00             29.97               29.99    0.01   \n",
       "2010-01-01 02:00:00             29.97               29.99    0.02   \n",
       "2010-01-01 03:00:00             29.97               29.99    0.00   \n",
       "2010-01-01 04:00:00             29.95               29.97    0.00   \n",
       "2010-01-01 05:00:00             29.93               29.96    0.00   \n",
       "\n",
       "                     altimeter_setting  wind_direction_sin  \\\n",
       "DATE                                                         \n",
       "2010-01-01 01:00:00              29.99                 0.0   \n",
       "2010-01-01 02:00:00              29.99                 0.0   \n",
       "2010-01-01 03:00:00              29.99                 0.0   \n",
       "2010-01-01 04:00:00              29.97                 0.0   \n",
       "2010-01-01 05:00:00              29.95                 0.0   \n",
       "\n",
       "                     wind_direction_cos  pressure_tendency_incr  \\\n",
       "DATE                                                              \n",
       "2010-01-01 01:00:00                 1.0                       0   \n",
       "2010-01-01 02:00:00                 1.0                       0   \n",
       "2010-01-01 03:00:00                 1.0                       0   \n",
       "2010-01-01 04:00:00                 1.0                       0   \n",
       "2010-01-01 05:00:00                 1.0                       0   \n",
       "\n",
       "                     pressure_tendency_decr  pressure_tendency_const  \n",
       "DATE                                                                  \n",
       "2010-01-01 01:00:00                       1                        0  \n",
       "2010-01-01 02:00:00                       1                        0  \n",
       "2010-01-01 03:00:00                       1                        0  \n",
       "2010-01-01 04:00:00                       1                        0  \n",
       "2010-01-01 05:00:00                       1                        0  "
      ]
     },
     "execution_count": 4,
     "metadata": {},
     "output_type": "execute_result"
    }
   ],
   "source": [
    "# Set date index\n",
    "data = data.set_index(pd.DatetimeIndex(data['DATE']))\n",
    "data.drop(['DATE'], axis=1, inplace=True)\n",
    "data.head()"
   ]
  },
  {
   "cell_type": "markdown",
   "id": "a3a79cb4",
   "metadata": {
    "papermill": {
     "duration": 0.002877,
     "end_time": "2025-05-02T05:11:47.569244",
     "exception": false,
     "start_time": "2025-05-02T05:11:47.566367",
     "status": "completed"
    },
    "tags": []
   },
   "source": [
    "For purposes of time-series modeling, we will restrict our analysis to a 2-year sample of the dataset to avoid overly long model-training times. "
   ]
  },
  {
   "cell_type": "code",
   "execution_count": 5,
   "id": "2605a38d",
   "metadata": {
    "execution": {
     "iopub.execute_input": "2025-05-02T05:11:47.575537Z",
     "iopub.status.busy": "2025-05-02T05:11:47.575235Z",
     "iopub.status.idle": "2025-05-02T05:11:47.583434Z",
     "shell.execute_reply": "2025-05-02T05:11:47.582922Z"
    },
    "papermill": {
     "duration": 0.012649,
     "end_time": "2025-05-02T05:11:47.584490",
     "exception": false,
     "start_time": "2025-05-02T05:11:47.571841",
     "status": "completed"
    },
    "tags": []
   },
   "outputs": [
    {
     "name": "stdout",
     "output_type": "stream",
     "text": [
      "<class 'pandas.core.frame.DataFrame'>\n",
      "DatetimeIndex: 17568 entries, 2016-01-01 00:00:00 to 2018-01-01 23:00:00\n",
      "Data columns (total 15 columns):\n",
      " #   Column                   Non-Null Count  Dtype  \n",
      "---  ------                   --------------  -----  \n",
      " 0   visibility               17568 non-null  float64\n",
      " 1   dry_bulb_temp_f          17568 non-null  float64\n",
      " 2   wet_bulb_temp_f          17568 non-null  float64\n",
      " 3   dew_point_temp_f         17568 non-null  float64\n",
      " 4   relative_humidity        17568 non-null  float64\n",
      " 5   wind_speed               17568 non-null  float64\n",
      " 6   station_pressure         17568 non-null  float64\n",
      " 7   sea_level_pressure       17568 non-null  float64\n",
      " 8   precip                   17568 non-null  float64\n",
      " 9   altimeter_setting        17568 non-null  float64\n",
      " 10  wind_direction_sin       17568 non-null  float64\n",
      " 11  wind_direction_cos       17568 non-null  float64\n",
      " 12  pressure_tendency_incr   17568 non-null  int64  \n",
      " 13  pressure_tendency_decr   17568 non-null  int64  \n",
      " 14  pressure_tendency_const  17568 non-null  int64  \n",
      "dtypes: float64(12), int64(3)\n",
      "memory usage: 2.1 MB\n"
     ]
    }
   ],
   "source": [
    "sample = data['2016-01-01':'2018-01-01']\n",
    "sample.info()"
   ]
  },
  {
   "cell_type": "markdown",
   "id": "7cec1133",
   "metadata": {
    "papermill": {
     "duration": 0.002846,
     "end_time": "2025-05-02T05:11:47.590450",
     "exception": false,
     "start_time": "2025-05-02T05:11:47.587604",
     "status": "completed"
    },
    "tags": []
   },
   "source": [
    "#### Create Training/Validation/Test Splits\n",
    "\n",
    "Before we attempt any time-series analysis and prediction, we should split the dataset into training, validation and test sets. We use a portion of the data for training, and a portion of _future_ data for our validation and test sets.\n",
    "\n",
    "If we instead trained a model on the full dataset, the model would learn to be very good at making predictions on that particular dataset, essentially just copying the answers it knows. However, when presented with data the model _has not seen_ , it would perform poorly since it has not learned how to generalize its answers.\n",
    "\n",
    "By training on a portion of the dataset and testing the model's performance on another portion of the dataset (which data the model has not seen in training), we try to avoid our models \"over-fitting\" the dataset and make them better at predicting temperatures given unseen, future data. This process of splitting the dataset and evaluating a model's performance on the validation and test sets is commonly known as [cross-validation](https://en.wikipedia.org/wiki/Cross-validation_(statistics)).\n",
    "\n",
    "By default here we use 80% of the data for the training set and 10% each for validation and test sets."
   ]
  },
  {
   "cell_type": "code",
   "execution_count": 6,
   "id": "cf9edefe",
   "metadata": {
    "execution": {
     "iopub.execute_input": "2025-05-02T05:11:47.597058Z",
     "iopub.status.busy": "2025-05-02T05:11:47.596458Z",
     "iopub.status.idle": "2025-05-02T05:11:47.602533Z",
     "shell.execute_reply": "2025-05-02T05:11:47.601687Z"
    },
    "papermill": {
     "duration": 0.010444,
     "end_time": "2025-05-02T05:11:47.603509",
     "exception": false,
     "start_time": "2025-05-02T05:11:47.593065",
     "status": "completed"
    },
    "tags": []
   },
   "outputs": [
    {
     "name": "stdout",
     "output_type": "stream",
     "text": [
      "Total data size:      17568 rows\n",
      "Training set size:    14054 rows\n",
      "Validation set size:  1757 rows\n",
      "Test set size:        1757 rows\n"
     ]
    }
   ],
   "source": [
    "def split_data(data, val_size=0.1, test_size=0.1):\n",
    "    \"\"\"Splits data to training, validation and testing parts\n",
    "\n",
    "    \"\"\"\n",
    "    ntest = int(round(len(data) * (1 - test_size)))\n",
    "    nval = int(round(len(data) * (1 - test_size - val_size)))\n",
    "\n",
    "    df_train, df_val, df_test = data.iloc[:nval], data.iloc[nval:ntest], data.iloc[ntest:]\n",
    "\n",
    "    return df_train, df_val, df_test\n",
    "\n",
    "\n",
    "# Create data split\n",
    "df_train, df_val, df_test = split_data(sample)\n",
    "\n",
    "print('Total data size:      {} rows'.format(len(sample)))\n",
    "print('Training set size:    {} rows'.format(len(df_train)))\n",
    "print('Validation set size:  {} rows'.format(len(df_val)))\n",
    "print('Test set size:        {} rows'.format(len(df_test)))"
   ]
  },
  {
   "cell_type": "markdown",
   "id": "e98c9120",
   "metadata": {
    "papermill": {
     "duration": 0.002942,
     "end_time": "2025-05-02T05:11:47.609729",
     "exception": false,
     "start_time": "2025-05-02T05:11:47.606787",
     "status": "completed"
    },
    "tags": []
   },
   "source": [
    "<a id=\"cell2\"></a>\n",
    "\n",
    "### 2. Explore Baseline Models\n",
    "\n",
    "In this section, we'll create a few simple predictive models of temperature, using shifting and rolling averages. These will serve as a baseline against which we can compare more sophisticated models.\n",
    "\n",
    "Using values at recent timesteps (such as the most recent timestep `t-1` and second-most recent timestep `t-2`) to predict the current value at time `t` is what's known as persistence modeling, or using the last observed value to predict the next following value. These preceding timesteps are often referred to in time-series analysis as `lags`. So, the value at time `t-1` is known as the `1st lag` and the value at time `t-2` is the `2nd lag`.\n",
    "\n",
    "We can also create baselines based on rolling (or moving) averages. This is a time-series constructed by averaging each lagged value up to the selected lag. For example, a 6-period (or 6-lag) rolling avearge is the average of the previous 6 hourly lags `t-6` to `t-1`.\n",
    "\n",
    "Our baseline models will be:\n",
    "1. `1st lag` - i.e. values at `t-1`\n",
    "2. `2nd lag` - i.e. values at `t-2`\n",
    "3. `6-lag` rolling average\n",
    "4. `12-lag` rolling average"
   ]
  },
  {
   "cell_type": "code",
   "execution_count": 7,
   "id": "3e899030",
   "metadata": {
    "execution": {
     "iopub.execute_input": "2025-05-02T05:11:47.617488Z",
     "iopub.status.busy": "2025-05-02T05:11:47.616955Z",
     "iopub.status.idle": "2025-05-02T05:11:47.630171Z",
     "shell.execute_reply": "2025-05-02T05:11:47.629496Z"
    },
    "papermill": {
     "duration": 0.018183,
     "end_time": "2025-05-02T05:11:47.630996",
     "exception": false,
     "start_time": "2025-05-02T05:11:47.612813",
     "status": "completed"
    },
    "tags": []
   },
   "outputs": [
    {
     "name": "stderr",
     "output_type": "stream",
     "text": [
      "/tmp/ipykernel_8868/1624613374.py:15: FutureWarning: 'H' is deprecated and will be removed in a future version, please use 'h' instead.\n",
      "  baseline['{} (6hr rollavg)'.format(Y_COL)] = baseline[Y_COL].rolling('6H').mean()\n",
      "/tmp/ipykernel_8868/1624613374.py:16: FutureWarning: 'H' is deprecated and will be removed in a future version, please use 'h' instead.\n",
      "  baseline['{} (12hr rollavg)'.format(Y_COL)] = baseline[Y_COL].rolling('12H').mean()\n"
     ]
    },
    {
     "data": {
      "text/html": [
       "<div>\n",
       "<style scoped>\n",
       "    .dataframe tbody tr th:only-of-type {\n",
       "        vertical-align: middle;\n",
       "    }\n",
       "\n",
       "    .dataframe tbody tr th {\n",
       "        vertical-align: top;\n",
       "    }\n",
       "\n",
       "    .dataframe thead th {\n",
       "        text-align: right;\n",
       "    }\n",
       "</style>\n",
       "<table border=\"1\" class=\"dataframe\">\n",
       "  <thead>\n",
       "    <tr style=\"text-align: right;\">\n",
       "      <th></th>\n",
       "      <th>dry_bulb_temp_f</th>\n",
       "      <th>dry_bulb_temp_f (t-1)</th>\n",
       "      <th>dry_bulb_temp_f (t-2)</th>\n",
       "      <th>dry_bulb_temp_f (6hr rollavg)</th>\n",
       "      <th>dry_bulb_temp_f (12hr rollavg)</th>\n",
       "    </tr>\n",
       "    <tr>\n",
       "      <th>DATE</th>\n",
       "      <th></th>\n",
       "      <th></th>\n",
       "      <th></th>\n",
       "      <th></th>\n",
       "      <th></th>\n",
       "    </tr>\n",
       "  </thead>\n",
       "  <tbody>\n",
       "    <tr>\n",
       "      <th>2016-01-01 02:00:00</th>\n",
       "      <td>43.0</td>\n",
       "      <td>43.0</td>\n",
       "      <td>44.0</td>\n",
       "      <td>43.333333</td>\n",
       "      <td>43.333333</td>\n",
       "    </tr>\n",
       "    <tr>\n",
       "      <th>2016-01-01 03:00:00</th>\n",
       "      <td>42.0</td>\n",
       "      <td>43.0</td>\n",
       "      <td>43.0</td>\n",
       "      <td>43.000000</td>\n",
       "      <td>43.000000</td>\n",
       "    </tr>\n",
       "    <tr>\n",
       "      <th>2016-01-01 04:00:00</th>\n",
       "      <td>43.0</td>\n",
       "      <td>42.0</td>\n",
       "      <td>43.0</td>\n",
       "      <td>43.000000</td>\n",
       "      <td>43.000000</td>\n",
       "    </tr>\n",
       "    <tr>\n",
       "      <th>2016-01-01 05:00:00</th>\n",
       "      <td>42.0</td>\n",
       "      <td>43.0</td>\n",
       "      <td>42.0</td>\n",
       "      <td>42.833333</td>\n",
       "      <td>42.833333</td>\n",
       "    </tr>\n",
       "    <tr>\n",
       "      <th>2016-01-01 06:00:00</th>\n",
       "      <td>41.0</td>\n",
       "      <td>42.0</td>\n",
       "      <td>43.0</td>\n",
       "      <td>42.333333</td>\n",
       "      <td>42.571429</td>\n",
       "    </tr>\n",
       "    <tr>\n",
       "      <th>2016-01-01 07:00:00</th>\n",
       "      <td>41.0</td>\n",
       "      <td>41.0</td>\n",
       "      <td>42.0</td>\n",
       "      <td>42.000000</td>\n",
       "      <td>42.375000</td>\n",
       "    </tr>\n",
       "    <tr>\n",
       "      <th>2016-01-01 08:00:00</th>\n",
       "      <td>41.0</td>\n",
       "      <td>41.0</td>\n",
       "      <td>41.0</td>\n",
       "      <td>41.666667</td>\n",
       "      <td>42.222222</td>\n",
       "    </tr>\n",
       "    <tr>\n",
       "      <th>2016-01-01 09:00:00</th>\n",
       "      <td>40.0</td>\n",
       "      <td>41.0</td>\n",
       "      <td>41.0</td>\n",
       "      <td>41.333333</td>\n",
       "      <td>42.000000</td>\n",
       "    </tr>\n",
       "    <tr>\n",
       "      <th>2016-01-01 10:00:00</th>\n",
       "      <td>41.0</td>\n",
       "      <td>40.0</td>\n",
       "      <td>41.0</td>\n",
       "      <td>41.000000</td>\n",
       "      <td>41.909091</td>\n",
       "    </tr>\n",
       "    <tr>\n",
       "      <th>2016-01-01 11:00:00</th>\n",
       "      <td>41.0</td>\n",
       "      <td>41.0</td>\n",
       "      <td>40.0</td>\n",
       "      <td>40.833333</td>\n",
       "      <td>41.833333</td>\n",
       "    </tr>\n",
       "  </tbody>\n",
       "</table>\n",
       "</div>"
      ],
      "text/plain": [
       "                     dry_bulb_temp_f  dry_bulb_temp_f (t-1)  \\\n",
       "DATE                                                          \n",
       "2016-01-01 02:00:00             43.0                   43.0   \n",
       "2016-01-01 03:00:00             42.0                   43.0   \n",
       "2016-01-01 04:00:00             43.0                   42.0   \n",
       "2016-01-01 05:00:00             42.0                   43.0   \n",
       "2016-01-01 06:00:00             41.0                   42.0   \n",
       "2016-01-01 07:00:00             41.0                   41.0   \n",
       "2016-01-01 08:00:00             41.0                   41.0   \n",
       "2016-01-01 09:00:00             40.0                   41.0   \n",
       "2016-01-01 10:00:00             41.0                   40.0   \n",
       "2016-01-01 11:00:00             41.0                   41.0   \n",
       "\n",
       "                     dry_bulb_temp_f (t-2)  dry_bulb_temp_f (6hr rollavg)  \\\n",
       "DATE                                                                        \n",
       "2016-01-01 02:00:00                   44.0                      43.333333   \n",
       "2016-01-01 03:00:00                   43.0                      43.000000   \n",
       "2016-01-01 04:00:00                   43.0                      43.000000   \n",
       "2016-01-01 05:00:00                   42.0                      42.833333   \n",
       "2016-01-01 06:00:00                   43.0                      42.333333   \n",
       "2016-01-01 07:00:00                   42.0                      42.000000   \n",
       "2016-01-01 08:00:00                   41.0                      41.666667   \n",
       "2016-01-01 09:00:00                   41.0                      41.333333   \n",
       "2016-01-01 10:00:00                   41.0                      41.000000   \n",
       "2016-01-01 11:00:00                   40.0                      40.833333   \n",
       "\n",
       "                     dry_bulb_temp_f (12hr rollavg)  \n",
       "DATE                                                 \n",
       "2016-01-01 02:00:00                       43.333333  \n",
       "2016-01-01 03:00:00                       43.000000  \n",
       "2016-01-01 04:00:00                       43.000000  \n",
       "2016-01-01 05:00:00                       42.833333  \n",
       "2016-01-01 06:00:00                       42.571429  \n",
       "2016-01-01 07:00:00                       42.375000  \n",
       "2016-01-01 08:00:00                       42.222222  \n",
       "2016-01-01 09:00:00                       42.000000  \n",
       "2016-01-01 10:00:00                       41.909091  \n",
       "2016-01-01 11:00:00                       41.833333  "
      ]
     },
     "execution_count": 7,
     "metadata": {},
     "output_type": "execute_result"
    }
   ],
   "source": [
    "# define the column containing the data we wish to model - in this case Dry Bulb Temperature (F)\n",
    "Y_COL = 'dry_bulb_temp_f'\n",
    "\n",
    "# Use shifting and rolling averages to predict Y_COL (t)\n",
    "n_in = 2\n",
    "n_out = 1\n",
    "features = [Y_COL]\n",
    "n_features = len(features)\n",
    "\n",
    "# create the baseline on the entire sample dataset.\n",
    "# we will evaluate the prediction error on the validation set\n",
    "baseline = sample[[Y_COL]].loc[:]\n",
    "baseline['{} (t-1)'.format(Y_COL)] = baseline[Y_COL].shift(1)\n",
    "baseline['{} (t-2)'.format(Y_COL)] = baseline[Y_COL].shift(2)\n",
    "baseline['{} (6hr rollavg)'.format(Y_COL)] = baseline[Y_COL].rolling('6H').mean()\n",
    "baseline['{} (12hr rollavg)'.format(Y_COL)] = baseline[Y_COL].rolling('12H').mean()\n",
    "baseline.dropna(inplace=True)\n",
    "baseline.head(10)"
   ]
  },
  {
   "cell_type": "markdown",
   "id": "e3f4426b",
   "metadata": {
    "papermill": {
     "duration": 0.002961,
     "end_time": "2025-05-02T05:11:47.637455",
     "exception": false,
     "start_time": "2025-05-02T05:11:47.634494",
     "status": "completed"
    },
    "tags": []
   },
   "source": [
    "Next, we will plot data from our validation dataset to get a sense for how well these baseline models predict the next hourly temperature. Note thatd we only use a few days of data in order to make the plot easier to view."
   ]
  },
  {
   "cell_type": "code",
   "execution_count": 8,
   "id": "859bcd3b",
   "metadata": {
    "execution": {
     "iopub.execute_input": "2025-05-02T05:11:47.644025Z",
     "iopub.status.busy": "2025-05-02T05:11:47.643753Z",
     "iopub.status.idle": "2025-05-02T05:11:47.647243Z",
     "shell.execute_reply": "2025-05-02T05:11:47.646715Z"
    },
    "papermill": {
     "duration": 0.007709,
     "end_time": "2025-05-02T05:11:47.648005",
     "exception": false,
     "start_time": "2025-05-02T05:11:47.640296",
     "status": "completed"
    },
    "tags": []
   },
   "outputs": [],
   "source": [
    "# plot first 7 days of the validation set, 168 hours\n",
    "start = df_val.index[0]\n",
    "end = df_val.index[167]\n",
    "sliced = baseline[start:end]"
   ]
  },
  {
   "cell_type": "code",
   "execution_count": 9,
   "id": "679dd0d6",
   "metadata": {
    "execution": {
     "iopub.execute_input": "2025-05-02T05:11:47.655436Z",
     "iopub.status.busy": "2025-05-02T05:11:47.654914Z",
     "iopub.status.idle": "2025-05-02T05:11:47.768908Z",
     "shell.execute_reply": "2025-05-02T05:11:47.768328Z"
    },
    "papermill": {
     "duration": 0.118546,
     "end_time": "2025-05-02T05:11:47.769845",
     "exception": false,
     "start_time": "2025-05-02T05:11:47.651299",
     "status": "completed"
    },
    "tags": []
   },
   "outputs": [
    {
     "data": {
      "image/png": "[encoded data removed]",
      "text/plain": [
       "<Figure size 432x288 with 1 Axes>"
      ]
     },
     "metadata": {
      "needs_background": "light"
     },
     "output_type": "display_data"
    }
   ],
   "source": [
    "# Plot baseline predictions sample\n",
    "cols = ['dry_bulb_temp_f', 'dry_bulb_temp_f (t-1)', 'dry_bulb_temp_f (t-2)',\n",
    "        'dry_bulb_temp_f (6hr rollavg)', 'dry_bulb_temp_f (12hr rollavg)']\n",
    "sliced[cols].plot()\n",
    "\n",
    "plt.legend(['t', 't-1', 't-2', '6hr', '12hr'], loc=2, ncol=3)\n",
    "plt.title('Baselines for First 7 Days of Validation Set')\n",
    "plt.ylabel('Temperature (F)')\n",
    "plt.tight_layout()\n",
    "plt.rcParams['figure.dpi'] = 100\n",
    "plt.show()"
   ]
  },
  {
   "cell_type": "markdown",
   "id": "5f5c265a",
   "metadata": {
    "papermill": {
     "duration": 0.003847,
     "end_time": "2025-05-02T05:11:47.777482",
     "exception": false,
     "start_time": "2025-05-02T05:11:47.773635",
     "status": "completed"
    },
    "tags": []
   },
   "source": [
    "#### Evaluate baseline models\n",
    "\n",
    "As you can perhaps see from the graph above, the _lagged_ baselines appear to do a better job of forecasting temperatures than the _rolling average_ baselines.\n",
    "\n",
    "In order to evaluate our baseline models more precisely, we need to answer the question _\"how well do our models predict future temperature?\"_. In regression problems involving prediction of a numerical value, we often use a measure of the difference between our predicted value and the actual value. This is referred to as an error measure or error metric. A common measure is the Mean Squared Error (MSE):\n",
    "\n",
    "\\begin{equation}\n",
    "MSE = \\frac{1}{n} \\sum_{i=1}^{n}{(y_i - \\hat y_i)^{2}}\n",
    "\\end{equation}\n",
    "\n",
    "This is the average of the squared differences between predicted values $ \\hat y $ and actual values $ y $.\n",
    "\n",
    "Because the MSE is in \"units squared\" it can be difficult to interpet, hence the Root Mean Squared Error (RMSE) is often used:\n",
    "\n",
    "\\begin{equation}\n",
    "RMSE = \\sqrt {MSE} \n",
    "\\end{equation}\n",
    "\n",
    "This is the square root of the MSE, and is in the same units as the values $ y $. We can compare the RMSE (and MSE) values for different models and say that the model that has the lower MSE is better at predicting temperatures, all things equal. Note that MSE and RMSE will grow large quickly if the differences between predicted and actual values are large. This may or may not be a desired quality of your error measure. In this case, it is probably a good thing, since a model that makes large mistakes in temperature prediction will be much less useful than one which makes small mistakes.\n",
    "\n",
    "Next, we calculate the RMSE measure for each of our baseline models, on the full validation set."
   ]
  },
  {
   "cell_type": "code",
   "execution_count": 10,
   "id": "2b9d41e6",
   "metadata": {
    "execution": {
     "iopub.execute_input": "2025-05-02T05:11:47.786111Z",
     "iopub.status.busy": "2025-05-02T05:11:47.785523Z",
     "iopub.status.idle": "2025-05-02T05:11:47.793025Z",
     "shell.execute_reply": "2025-05-02T05:11:47.792528Z"
    },
    "papermill": {
     "duration": 0.012801,
     "end_time": "2025-05-02T05:11:47.793774",
     "exception": false,
     "start_time": "2025-05-02T05:11:47.780973",
     "status": "completed"
    },
    "tags": []
   },
   "outputs": [
    {
     "name": "stdout",
     "output_type": "stream",
     "text": [
      "Baseline t-1 RMSE:            1.690\n",
      "Baseline t-2 RMSE:            2.880\n",
      "Baseline 6hr rollavg RMSE:    3.080\n",
      "Baseline 12hr rollavg RMSE:   5.010\n"
     ]
    }
   ],
   "source": [
    "# Calculating baseline RMSE\n",
    "start_val = df_val.index[0]\n",
    "end_val = df_val.index[-1]\n",
    "baseline_val = baseline[start_val:end_val]\n",
    "\n",
    "baseline_y = baseline_val[Y_COL]\n",
    "baseline_t1 = baseline_val['dry_bulb_temp_f (t-1)']\n",
    "baseline_t2 = baseline_val['dry_bulb_temp_f (t-2)']\n",
    "baseline_avg6 = baseline_val['dry_bulb_temp_f (6hr rollavg)']\n",
    "baseline_avg12 = baseline_val['dry_bulb_temp_f (12hr rollavg)']\n",
    "\n",
    "rmse_t1 = round(np.sqrt(mean_squared_error(baseline_y, baseline_t1)), 2)\n",
    "rmse_t2 = round(np.sqrt(mean_squared_error(baseline_y, baseline_t2)), 2)\n",
    "rmse_avg6 = round(np.sqrt(mean_squared_error(baseline_y, baseline_avg6)), 2)\n",
    "rmse_avg12 = round(np.sqrt(mean_squared_error(baseline_y, baseline_avg12)), 2)\n",
    "\n",
    "print('Baseline t-1 RMSE:            {0:.3f}'.format(rmse_t1))\n",
    "print('Baseline t-2 RMSE:            {0:.3f}'.format(rmse_t2))\n",
    "print('Baseline 6hr rollavg RMSE:    {0:.3f}'.format(rmse_avg6))\n",
    "print('Baseline 12hr rollavg RMSE:   {0:.3f}'.format(rmse_avg12))"
   ]
  },
  {
   "cell_type": "markdown",
   "id": "0fd31f08",
   "metadata": {
    "papermill": {
     "duration": 0.003404,
     "end_time": "2025-05-02T05:11:47.800916",
     "exception": false,
     "start_time": "2025-05-02T05:11:47.797512",
     "status": "completed"
    },
    "tags": []
   },
   "source": [
    "The RMSE results confirm what we saw in the graph above. It is clear that the _rolling average_ baselines perform poorly. In fact, the `t-2` lagged baseline is also not very good. It appears that the best baseline model is to simply use the current hour's temperature to predict the next hour's temperature!\n",
    "\n",
    "Can we do better than this simple baseline using more sophisticated models?\n",
    "\n",
    "<a id=\"cell3\"></a>\n",
    "\n",
    "### 2. Train Statistical Time-series Analysis Models\n",
    "\n",
    "\n",
    "In the previous section, we saw that a simple `lag-1` baseline model performed reasonably well at forecasting temperature for the next hourly time step. This is perhaps not too surprising, given what we know about hourly temperatures. Generally, the temperature in a given hour will be quite closely related to the temperature in the previous hour. This phenomenon is very common in time-series analysis and is known as [autocorrelation](https://en.wikipedia.org/wiki/Autocorrelation) - that is, the time series is `correlated` with previous values of itself. More precisely, the values at time `t` are correlated with lagged values (which could be `t-1`, `t-2` and so on).\n",
    "\n",
    "Another thing we saw previously is the concept of _moving averages_. In this case the moving-average baseline was not that good at prediction. However it is common in many time-series for a moving average to capture some of the underlying structure and be useful for prediction.\n",
    "\n",
    "In order to make our model better at predicting temperature, ideally we would want to take these aspects into account. Fortunately, the statistical community has a long history of analyzing time series and has created many different forecasting models.\n",
    "\n",
    "Here, we will explore one called SARIMAX - the **S**easonal **A**uto**R**egressive **I**ntegrated **M**oving **A**verage with e**X**ogenous regressors model. \n",
    "\n",
    "This sounds like a very complex name, but if we look at the components of the name, we see that it includes `autocorrelation` (this is what auto regressive means) and `moving averages`, which are the components mentioned above. \n",
    "\n",
    "The SARIMAX model also allows including a _seasonal_ model component as well as handling *exogenous* variables, which are external to the time-series value itself. For example, for temperature prediction we may wish to take into account not just previous temperature values, but perhaps other weather features which may have an effect on temperature (such as humidity, rainfall, wind, and so on).\n",
    "\n",
    "For the purposes of this notebook, we will not explore modeling of seasonal components or exogenous variables.\n",
    "\n",
    "If we drop the \"S\" and \"X\" from the model, we are left with an [ARIMA model](https://en.wikipedia.org/wiki/Autoregressive_integrated_moving_average) (Auto-regressive Integrated Moving Average). This is a very commonly used model for time-series analysis and we will use it in this notebook by only specifying the relevant model components of the full SARIMAX model.\n",
    "\n",
    "#### 2.1 Replicating a baseline model\n",
    "\n",
    "As a starting point, we will see how we can use SARIMAX to create a simple model that in fact replicates one of the baselines we created previously. Auto-regression, as we have seen, means using values from preceding time periods to predict the current value. Recall that one of our baseline models was the `1st lag` or `t-1` model. In time-series analysis this is referred to as an **AR(1)** model, meaning an **A**uto-**R**egressive model for `lag 1`.\n",
    "\n",
    "Technically, the AR(1) model is not exactly the same as our baseline model. A statistical time series model like SARIMAX learns a set of `weights` to apply to each component of the model. These weights are set so as to best fit the dataset. We can think of our baseline as setting the `weight` for the `t-1` lag to be exactly `1`. In practice, our time-series model will not have a weight of exactly `1` (though it will likely be very close to that), hence the predictions will be slightly different.\n",
    "\n",
    "Now, lets fit our model to the dataset. First, we will set up the model inputs by taking the temperature column of our dataframe. We do this for training and validation sets."
   ]
  },
  {
   "cell_type": "code",
   "execution_count": 11,
   "id": "6d2199fc",
   "metadata": {
    "execution": {
     "iopub.execute_input": "2025-05-02T05:11:47.808924Z",
     "iopub.status.busy": "2025-05-02T05:11:47.808554Z",
     "iopub.status.idle": "2025-05-02T05:11:47.814359Z",
     "shell.execute_reply": "2025-05-02T05:11:47.811623Z"
    },
    "papermill": {
     "duration": 0.011224,
     "end_time": "2025-05-02T05:11:47.815554",
     "exception": false,
     "start_time": "2025-05-02T05:11:47.804330",
     "status": "completed"
    },
    "tags": []
   },
   "outputs": [],
   "source": [
    "X_train = df_train[Y_COL]\n",
    "X_val = df_val[Y_COL]\n",
    "X_both = np.hstack((X_train, X_val))"
   ]
  },
  {
   "cell_type": "markdown",
   "id": "ab397bcd",
   "metadata": {
    "papermill": {
     "duration": 0.003875,
     "end_time": "2025-05-02T05:11:47.823323",
     "exception": false,
     "start_time": "2025-05-02T05:11:47.819448",
     "status": "completed"
    },
    "tags": []
   },
   "source": [
    "Here we created a variable called `X_both` to cover both the training and validation data. This is required later when we forecast values for our SARIMAX model, in order to give the model access to all the datapoints for which it must create forecasts. Note that the forecasts themselves will only be based on the _model weights_ learned from the training data (this is important for over-fitting as we have seen above)!\n",
    "\n",
    "The SARIMAX model takes an argument called `order`: this specifies the components of the model and itself has 3 parts: `(p, d, q)`. `p` denotes the lags for the AR model and `q` denotes the lags for the MA model. We will not cover the `d` parameter here. Taken together this specifies the parameters of the [ARIMA](https://en.wikipedia.org/wiki/Autoregressive_integrated_moving_average) model portion of SARIMAX.\n",
    "\n",
    "To create an AR(1) model, we set the `order` to be `(1, 0, 0)`. This sets up the AR model to be a `lag 1` model. Then, we fit our model on the training data and inspect a summary of the trained model. "
   ]
  },
  {
   "cell_type": "code",
   "execution_count": 12,
   "id": "f6b5e744",
   "metadata": {
    "execution": {
     "iopub.execute_input": "2025-05-02T05:11:47.834569Z",
     "iopub.status.busy": "2025-05-02T05:11:47.834215Z",
     "iopub.status.idle": "2025-05-02T05:11:48.066478Z",
     "shell.execute_reply": "2025-05-02T05:11:48.066021Z"
    },
    "papermill": {
     "duration": 0.238647,
     "end_time": "2025-05-02T05:11:48.067188",
     "exception": false,
     "start_time": "2025-05-02T05:11:47.828541",
     "status": "completed"
    },
    "tags": []
   },
   "outputs": [
    {
     "name": "stdout",
     "output_type": "stream",
     "text": [
      "RUNNING THE L-BFGS-B CODE\n",
      "\n",
      "           * * *\n",
      "\n",
      "Machine precision = 2.220D-16\n",
      " N =            2     M =           10\n",
      "\n",
      "At X0         0 variables are exactly at the bounds\n",
      "\n",
      "At iterate    0    f=  1.96744D+00    |proj g|=  2.34110D-05\n",
      "\n",
      "           * * *\n",
      "\n",
      "Tit   = total number of iterations\n",
      "Tnf   = total number of function evaluations\n",
      "Tnint = total number of segments explored during Cauchy searches\n",
      "Skip  = number of BFGS updates skipped\n",
      "Nact  = number of active bounds at final generalized Cauchy point\n",
      "Projg = norm of the final projected gradient\n",
      "F     = final function value\n",
      "\n",
      "           * * *\n",
      "\n",
      "   N    Tit     Tnf  Tnint  Skip  Nact     Projg        F\n",
      "    2      1      4      1     0     0   1.603D-06   1.967D+00\n",
      "  F =   1.9674421021831423     \n",
      "\n",
      "CONVERGENCE: NORM_OF_PROJECTED_GRADIENT_<=_PGTOL            \n"
     ]
    },
    {
     "name": "stderr",
     "output_type": "stream",
     "text": [
      "/opt/conda/lib/python3.9/site-packages/statsmodels/tsa/base/tsa_model.py:473: ValueWarning: No frequency information was provided, so inferred frequency h will be used.\n",
      "  self._init_dates(dates, freq)\n",
      "/opt/conda/lib/python3.9/site-packages/statsmodels/tsa/base/tsa_model.py:473: ValueWarning: No frequency information was provided, so inferred frequency h will be used.\n",
      "  self._init_dates(dates, freq)\n",
      " This problem is unconstrained.\n"
     ]
    },
    {
     "data": {
      "text/html": [
       "<table class=\"simpletable\">\n",
       "<caption>SARIMAX Results</caption>\n",
       "<tr>\n",
       "  <th>Dep. Variable:</th>    <td>dry_bulb_temp_f</td> <th>  No. Observations:  </th>    <td>14054</td>  \n",
       "</tr>\n",
       "<tr>\n",
       "  <th>Model:</th>           <td>SARIMAX(1, 0, 0)</td> <th>  Log Likelihood     </th> <td>-27650.431</td>\n",
       "</tr>\n",
       "<tr>\n",
       "  <th>Date:</th>            <td>Fri, 02 May 2025</td> <th>  AIC                </th>  <td>55304.863</td>\n",
       "</tr>\n",
       "<tr>\n",
       "  <th>Time:</th>                <td>05:11:47</td>     <th>  BIC                </th>  <td>55319.964</td>\n",
       "</tr>\n",
       "<tr>\n",
       "  <th>Sample:</th>             <td>01-01-2016</td>    <th>  HQIC               </th>  <td>55309.889</td>\n",
       "</tr>\n",
       "<tr>\n",
       "  <th></th>                   <td>- 08-08-2017</td>   <th>                     </th>      <td> </td>    \n",
       "</tr>\n",
       "<tr>\n",
       "  <th>Covariance Type:</th>        <td>opg</td>       <th>                     </th>      <td> </td>    \n",
       "</tr>\n",
       "</table>\n",
       "<table class=\"simpletable\">\n",
       "<tr>\n",
       "     <td></td>       <th>coef</th>     <th>std err</th>      <th>z</th>      <th>P>|z|</th>  <th>[0.025</th>    <th>0.975]</th>  \n",
       "</tr>\n",
       "<tr>\n",
       "  <th>ar.L1</th>  <td>    0.9996</td> <td>    0.000</td> <td> 4277.653</td> <td> 0.000</td> <td>    0.999</td> <td>    1.000</td>\n",
       "</tr>\n",
       "<tr>\n",
       "  <th>sigma2</th> <td>    2.9937</td> <td>    0.024</td> <td>  125.518</td> <td> 0.000</td> <td>    2.947</td> <td>    3.040</td>\n",
       "</tr>\n",
       "</table>\n",
       "<table class=\"simpletable\">\n",
       "<tr>\n",
       "  <th>Ljung-Box (L1) (Q):</th>     <td>1479.79</td> <th>  Jarque-Bera (JB):  </th> <td>3656.68</td>\n",
       "</tr>\n",
       "<tr>\n",
       "  <th>Prob(Q):</th>                 <td>0.00</td>   <th>  Prob(JB):          </th>  <td>0.00</td>  \n",
       "</tr>\n",
       "<tr>\n",
       "  <th>Heteroskedasticity (H):</th>  <td>0.97</td>   <th>  Skew:              </th>  <td>0.15</td>  \n",
       "</tr>\n",
       "<tr>\n",
       "  <th>Prob(H) (two-sided):</th>     <td>0.26</td>   <th>  Kurtosis:          </th>  <td>5.48</td>  \n",
       "</tr>\n",
       "</table><br/><br/>Warnings:<br/>[1] Covariance matrix calculated using the outer product of gradients (complex-step)."
      ],
      "text/latex": [
       "\\begin{center}\n",
       "\\begin{tabular}{lclc}\n",
       "\\toprule\n",
       "\\textbf{Dep. Variable:}          & dry\\_bulb\\_temp\\_f & \\textbf{  No. Observations:  } &   14054     \\\\\n",
       "\\textbf{Model:}                  &  SARIMAX(1, 0, 0)  & \\textbf{  Log Likelihood     } & -27650.431  \\\\\n",
       "\\textbf{Date:}                   &  Fri, 02 May 2025  & \\textbf{  AIC                } & 55304.863   \\\\\n",
       "\\textbf{Time:}                   &      05:11:47      & \\textbf{  BIC                } & 55319.964   \\\\\n",
       "\\textbf{Sample:}                 &     01-01-2016     & \\textbf{  HQIC               } & 55309.889   \\\\\n",
       "\\textbf{}                        &    - 08-08-2017    & \\textbf{                     } &             \\\\\n",
       "\\textbf{Covariance Type:}        &        opg         & \\textbf{                     } &             \\\\\n",
       "\\bottomrule\n",
       "\\end{tabular}\n",
       "\\begin{tabular}{lcccccc}\n",
       "                & \\textbf{coef} & \\textbf{std err} & \\textbf{z} & \\textbf{P$> |$z$|$} & \\textbf{[0.025} & \\textbf{0.975]}  \\\\\n",
       "\\midrule\n",
       "\\textbf{ar.L1}  &       0.9996  &        0.000     &  4277.653  &         0.000        &        0.999    &        1.000     \\\\\n",
       "\\textbf{sigma2} &       2.9937  &        0.024     &   125.518  &         0.000        &        2.947    &        3.040     \\\\\n",
       "\\bottomrule\n",
       "\\end{tabular}\n",
       "\\begin{tabular}{lclc}\n",
       "\\textbf{Ljung-Box (L1) (Q):}     & 1479.79 & \\textbf{  Jarque-Bera (JB):  } & 3656.68  \\\\\n",
       "\\textbf{Prob(Q):}                &   0.00  & \\textbf{  Prob(JB):          } &   0.00   \\\\\n",
       "\\textbf{Heteroskedasticity (H):} &   0.97  & \\textbf{  Skew:              } &   0.15   \\\\\n",
       "\\textbf{Prob(H) (two-sided):}    &   0.26  & \\textbf{  Kurtosis:          } &   5.48   \\\\\n",
       "\\bottomrule\n",
       "\\end{tabular}\n",
       "%\\caption{SARIMAX Results}\n",
       "\\end{center}\n",
       "\n",
       "Warnings: \\newline\n",
       " [1] Covariance matrix calculated using the outer product of gradients (complex-step)."
      ],
      "text/plain": [
       "<class 'statsmodels.iolib.summary.Summary'>\n",
       "\"\"\"\n",
       "                               SARIMAX Results                                \n",
       "==============================================================================\n",
       "Dep. Variable:        dry_bulb_temp_f   No. Observations:                14054\n",
       "Model:               SARIMAX(1, 0, 0)   Log Likelihood              -27650.431\n",
       "Date:                Fri, 02 May 2025   AIC                          55304.863\n",
       "Time:                        05:11:47   BIC                          55319.964\n",
       "Sample:                    01-01-2016   HQIC                         55309.889\n",
       "                         - 08-08-2017                                         \n",
       "Covariance Type:                  opg                                         \n",
       "==============================================================================\n",
       "                 coef    std err          z      P>|z|      [0.025      0.975]\n",
       "------------------------------------------------------------------------------\n",
       "ar.L1          0.9996      0.000   4277.653      0.000       0.999       1.000\n",
       "sigma2         2.9937      0.024    125.518      0.000       2.947       3.040\n",
       "===================================================================================\n",
       "Ljung-Box (L1) (Q):                1479.79   Jarque-Bera (JB):              3656.68\n",
       "Prob(Q):                              0.00   Prob(JB):                         0.00\n",
       "Heteroskedasticity (H):               0.97   Skew:                             0.15\n",
       "Prob(H) (two-sided):                  0.26   Kurtosis:                         5.48\n",
       "===================================================================================\n",
       "\n",
       "Warnings:\n",
       "[1] Covariance matrix calculated using the outer product of gradients (complex-step).\n",
       "\"\"\""
      ]
     },
     "execution_count": 12,
     "metadata": {},
     "output_type": "execute_result"
    }
   ],
   "source": [
    "order = (1, 0, 0)\n",
    "model_ar1 = SARIMAX(X_train, order=order)\n",
    "results_ar1 = model_ar1.fit()\n",
    "results_ar1.summary()"
   ]
  },
  {
   "cell_type": "markdown",
   "id": "4dd593c0",
   "metadata": {
    "papermill": {
     "duration": 0.005663,
     "end_time": "2025-05-02T05:11:48.079628",
     "exception": false,
     "start_time": "2025-05-02T05:11:48.073965",
     "status": "completed"
    },
    "tags": []
   },
   "source": [
    "There's quite a lot of information printed out in the model summary above. Much of it is related to the statistical properties of our model.\n",
    "\n",
    "The most important thing for now is to look at the second table, where we can see a `coef` value of `0.9996` for the weight `ar.L1`. This tells us the model has set a weight for the `1st lag` component of the AR model to be `0.9996`. This is almost `1` and hence we should expect the prediction results to indeed be close to our `t-1` baseline.\n",
    "\n",
    "Let's create our model forecast on the validation dataset. We will then plot a few data points like we did with our baseline models (using 7 days of validation data) and compute the RMSE value based on the full validation set."
   ]
  },
  {
   "cell_type": "code",
   "execution_count": 13,
   "id": "67b808d7",
   "metadata": {
    "execution": {
     "iopub.execute_input": "2025-05-02T05:11:48.092387Z",
     "iopub.status.busy": "2025-05-02T05:11:48.092004Z",
     "iopub.status.idle": "2025-05-02T05:11:48.132640Z",
     "shell.execute_reply": "2025-05-02T05:11:48.131564Z"
    },
    "papermill": {
     "duration": 0.048536,
     "end_time": "2025-05-02T05:11:48.133818",
     "exception": false,
     "start_time": "2025-05-02T05:11:48.085282",
     "status": "completed"
    },
    "tags": []
   },
   "outputs": [],
   "source": [
    "full_data_ar1 = SARIMAX(X_both, order=order)\n",
    "model_forecast_ar1 = full_data_ar1.filter(results_ar1.params)"
   ]
  },
  {
   "cell_type": "code",
   "execution_count": 14,
   "id": "308e20a0",
   "metadata": {
    "execution": {
     "iopub.execute_input": "2025-05-02T05:11:48.146379Z",
     "iopub.status.busy": "2025-05-02T05:11:48.146056Z",
     "iopub.status.idle": "2025-05-02T05:11:48.235980Z",
     "shell.execute_reply": "2025-05-02T05:11:48.235276Z"
    },
    "papermill": {
     "duration": 0.097319,
     "end_time": "2025-05-02T05:11:48.236961",
     "exception": false,
     "start_time": "2025-05-02T05:11:48.139642",
     "status": "completed"
    },
    "tags": []
   },
   "outputs": [
    {
     "data": {
      "image/png": "[encoded data removed]",
      "text/plain": [
       "<Figure size 600x400 with 1 Axes>"
      ]
     },
     "metadata": {
      "needs_background": "light"
     },
     "output_type": "display_data"
    }
   ],
   "source": [
    "start = len(X_train)\n",
    "end = len(X_both)\n",
    "forecast_ar1 = model_forecast_ar1.predict(start=start, end=end - 1, dynamic=False)\n",
    "\n",
    "# plot actual vs predicted values for the same 7-day window for easier viewing\n",
    "plt.plot(sliced[Y_COL].values)\n",
    "plt.plot(forecast_ar1[:168], color='r', linestyle='--')\n",
    "plt.legend(['t', 'AR(1)'], loc=2)\n",
    "plt.title('AR(1) Model Predictions for First 7 Days of Validation Set')\n",
    "plt.ylabel('Temperature (F)')\n",
    "plt.tight_layout()\n",
    "plt.show()"
   ]
  },
  {
   "cell_type": "markdown",
   "id": "e5a3fe1d",
   "metadata": {
    "papermill": {
     "duration": 0.004231,
     "end_time": "2025-05-02T05:11:48.245665",
     "exception": false,
     "start_time": "2025-05-02T05:11:48.241434",
     "status": "completed"
    },
    "tags": []
   },
   "source": [
    "We can see that the plot looks almost identical to the plot above, for the `t` and `t-1 baseline` values.\n",
    "\n",
    "Next, we compute the RMSE values."
   ]
  },
  {
   "cell_type": "code",
   "execution_count": 15,
   "id": "022b21f0",
   "metadata": {
    "execution": {
     "iopub.execute_input": "2025-05-02T05:11:48.256041Z",
     "iopub.status.busy": "2025-05-02T05:11:48.255728Z",
     "iopub.status.idle": "2025-05-02T05:11:48.260317Z",
     "shell.execute_reply": "2025-05-02T05:11:48.259692Z"
    },
    "papermill": {
     "duration": 0.010721,
     "end_time": "2025-05-02T05:11:48.261100",
     "exception": false,
     "start_time": "2025-05-02T05:11:48.250379",
     "status": "completed"
    },
    "tags": []
   },
   "outputs": [
    {
     "name": "stdout",
     "output_type": "stream",
     "text": [
      "AR(1) RMSE:                   1.692\n",
      "Baseline t-1 RMSE:            1.690\n"
     ]
    }
   ],
   "source": [
    "# compute print RMSE values\n",
    "rmse_ar1 = np.sqrt(mean_squared_error(baseline_val[Y_COL], forecast_ar1))\n",
    "print('AR(1) RMSE:                   {0:.3f}'.format(rmse_ar1))\n",
    "print('Baseline t-1 RMSE:            {0:.3f}'.format(rmse_t1))"
   ]
  },
  {
   "cell_type": "markdown",
   "id": "aaf8d927",
   "metadata": {
    "papermill": {
     "duration": 0.004428,
     "end_time": "2025-05-02T05:11:48.269837",
     "exception": false,
     "start_time": "2025-05-02T05:11:48.265409",
     "status": "completed"
    },
    "tags": []
   },
   "source": [
    "We can see that the RMSE values for the validation set also almost identical.\n",
    "\n",
    "#### 2.2 Create a more complex model\n",
    "\n",
    "One of our baseline models was a `lag 2` model, i.e. `t-2`. We saw that it performed a lot worse than the `t-1` baseline. Intuitively, this makes sense, since we are throwing away a lot of information about the most recent lag `t-1`. However, the `t-2` lag still provides some useful information. In fact, for temperature prediction it's likely that the last few hours can provide some value.\n",
    "\n",
    "Fortunately, our ARIMA model framework provides an easy way to incorporate further lag information. We can construct a model that includes _both_ the `t-1` and `t-2` lags. This is an **AR(2)** model (meaning an auto-regressive model up to lag `2`). We can specify this with the model order parameter `p=2`."
   ]
  },
  {
   "cell_type": "code",
   "execution_count": 16,
   "id": "6230e486",
   "metadata": {
    "execution": {
     "iopub.execute_input": "2025-05-02T05:11:48.281348Z",
     "iopub.status.busy": "2025-05-02T05:11:48.280843Z",
     "iopub.status.idle": "2025-05-02T05:11:48.603775Z",
     "shell.execute_reply": "2025-05-02T05:11:48.603091Z"
    },
    "papermill": {
     "duration": 0.329278,
     "end_time": "2025-05-02T05:11:48.604598",
     "exception": false,
     "start_time": "2025-05-02T05:11:48.275320",
     "status": "completed"
    },
    "tags": []
   },
   "outputs": [
    {
     "name": "stdout",
     "output_type": "stream",
     "text": [
      "RUNNING THE L-BFGS-B CODE\n",
      "\n",
      "           * * *\n",
      "\n",
      "Machine precision = 2.220D-16\n",
      " N =            3     M =           10\n",
      "\n",
      "At X0         0 variables are exactly at the bounds\n",
      "\n",
      "At iterate    0    f=  1.91171D+00    |proj g|=  5.33545D-05\n",
      "\n",
      "           * * *\n",
      "\n",
      "Tit   = total number of iterations\n",
      "Tnf   = total number of function evaluations\n",
      "Tnint = total number of segments explored during Cauchy searches\n",
      "Skip  = number of BFGS updates skipped\n",
      "Nact  = number of active bounds at final generalized Cauchy point\n",
      "Projg = norm of the final projected gradient\n",
      "F     = final function value\n",
      "\n",
      "           * * *\n",
      "\n",
      "   N    Tit     Tnf  Tnint  Skip  Nact     Projg        F\n",
      "    3      1      4      1     0     0   4.577D-06   1.912D+00\n",
      "  F =   1.9117142768464517     \n",
      "\n",
      "CONVERGENCE: NORM_OF_PROJECTED_GRADIENT_<=_PGTOL            \n"
     ]
    },
    {
     "name": "stderr",
     "output_type": "stream",
     "text": [
      "/opt/conda/lib/python3.9/site-packages/statsmodels/tsa/base/tsa_model.py:473: ValueWarning: No frequency information was provided, so inferred frequency h will be used.\n",
      "  self._init_dates(dates, freq)\n",
      "/opt/conda/lib/python3.9/site-packages/statsmodels/tsa/base/tsa_model.py:473: ValueWarning: No frequency information was provided, so inferred frequency h will be used.\n",
      "  self._init_dates(dates, freq)\n",
      " This problem is unconstrained.\n"
     ]
    },
    {
     "data": {
      "text/html": [
       "<table class=\"simpletable\">\n",
       "<caption>SARIMAX Results</caption>\n",
       "<tr>\n",
       "  <th>Dep. Variable:</th>    <td>dry_bulb_temp_f</td> <th>  No. Observations:  </th>    <td>14054</td>  \n",
       "</tr>\n",
       "<tr>\n",
       "  <th>Model:</th>           <td>SARIMAX(2, 0, 0)</td> <th>  Log Likelihood     </th> <td>-26867.232</td>\n",
       "</tr>\n",
       "<tr>\n",
       "  <th>Date:</th>            <td>Fri, 02 May 2025</td> <th>  AIC                </th>  <td>53740.465</td>\n",
       "</tr>\n",
       "<tr>\n",
       "  <th>Time:</th>                <td>05:11:48</td>     <th>  BIC                </th>  <td>53763.117</td>\n",
       "</tr>\n",
       "<tr>\n",
       "  <th>Sample:</th>             <td>01-01-2016</td>    <th>  HQIC               </th>  <td>53748.005</td>\n",
       "</tr>\n",
       "<tr>\n",
       "  <th></th>                   <td>- 08-08-2017</td>   <th>                     </th>      <td> </td>    \n",
       "</tr>\n",
       "<tr>\n",
       "  <th>Covariance Type:</th>        <td>opg</td>       <th>                     </th>      <td> </td>    \n",
       "</tr>\n",
       "</table>\n",
       "<table class=\"simpletable\">\n",
       "<tr>\n",
       "     <td></td>       <th>coef</th>     <th>std err</th>      <th>z</th>      <th>P>|z|</th>  <th>[0.025</th>    <th>0.975]</th>  \n",
       "</tr>\n",
       "<tr>\n",
       "  <th>ar.L1</th>  <td>    1.3242</td> <td>    0.006</td> <td>  220.175</td> <td> 0.000</td> <td>    1.312</td> <td>    1.336</td>\n",
       "</tr>\n",
       "<tr>\n",
       "  <th>ar.L2</th>  <td>   -0.3248</td> <td>    0.006</td> <td>  -53.852</td> <td> 0.000</td> <td>   -0.337</td> <td>   -0.313</td>\n",
       "</tr>\n",
       "<tr>\n",
       "  <th>sigma2</th> <td>    2.6779</td> <td>    0.020</td> <td>  136.374</td> <td> 0.000</td> <td>    2.639</td> <td>    2.716</td>\n",
       "</tr>\n",
       "</table>\n",
       "<table class=\"simpletable\">\n",
       "<tr>\n",
       "  <th>Ljung-Box (L1) (Q):</th>     <td>48.01</td> <th>  Jarque-Bera (JB):  </th> <td>7579.33</td>\n",
       "</tr>\n",
       "<tr>\n",
       "  <th>Prob(Q):</th>                <td>0.00</td>  <th>  Prob(JB):          </th>  <td>0.00</td>  \n",
       "</tr>\n",
       "<tr>\n",
       "  <th>Heteroskedasticity (H):</th> <td>0.99</td>  <th>  Skew:              </th>  <td>-0.01</td> \n",
       "</tr>\n",
       "<tr>\n",
       "  <th>Prob(H) (two-sided):</th>    <td>0.75</td>  <th>  Kurtosis:          </th>  <td>6.60</td>  \n",
       "</tr>\n",
       "</table><br/><br/>Warnings:<br/>[1] Covariance matrix calculated using the outer product of gradients (complex-step)."
      ],
      "text/latex": [
       "\\begin{center}\n",
       "\\begin{tabular}{lclc}\n",
       "\\toprule\n",
       "\\textbf{Dep. Variable:}          & dry\\_bulb\\_temp\\_f & \\textbf{  No. Observations:  } &   14054     \\\\\n",
       "\\textbf{Model:}                  &  SARIMAX(2, 0, 0)  & \\textbf{  Log Likelihood     } & -26867.232  \\\\\n",
       "\\textbf{Date:}                   &  Fri, 02 May 2025  & \\textbf{  AIC                } & 53740.465   \\\\\n",
       "\\textbf{Time:}                   &      05:11:48      & \\textbf{  BIC                } & 53763.117   \\\\\n",
       "\\textbf{Sample:}                 &     01-01-2016     & \\textbf{  HQIC               } & 53748.005   \\\\\n",
       "\\textbf{}                        &    - 08-08-2017    & \\textbf{                     } &             \\\\\n",
       "\\textbf{Covariance Type:}        &        opg         & \\textbf{                     } &             \\\\\n",
       "\\bottomrule\n",
       "\\end{tabular}\n",
       "\\begin{tabular}{lcccccc}\n",
       "                & \\textbf{coef} & \\textbf{std err} & \\textbf{z} & \\textbf{P$> |$z$|$} & \\textbf{[0.025} & \\textbf{0.975]}  \\\\\n",
       "\\midrule\n",
       "\\textbf{ar.L1}  &       1.3242  &        0.006     &   220.175  &         0.000        &        1.312    &        1.336     \\\\\n",
       "\\textbf{ar.L2}  &      -0.3248  &        0.006     &   -53.852  &         0.000        &       -0.337    &       -0.313     \\\\\n",
       "\\textbf{sigma2} &       2.6779  &        0.020     &   136.374  &         0.000        &        2.639    &        2.716     \\\\\n",
       "\\bottomrule\n",
       "\\end{tabular}\n",
       "\\begin{tabular}{lclc}\n",
       "\\textbf{Ljung-Box (L1) (Q):}     & 48.01 & \\textbf{  Jarque-Bera (JB):  } & 7579.33  \\\\\n",
       "\\textbf{Prob(Q):}                &  0.00 & \\textbf{  Prob(JB):          } &   0.00   \\\\\n",
       "\\textbf{Heteroskedasticity (H):} &  0.99 & \\textbf{  Skew:              } &  -0.01   \\\\\n",
       "\\textbf{Prob(H) (two-sided):}    &  0.75 & \\textbf{  Kurtosis:          } &   6.60   \\\\\n",
       "\\bottomrule\n",
       "\\end{tabular}\n",
       "%\\caption{SARIMAX Results}\n",
       "\\end{center}\n",
       "\n",
       "Warnings: \\newline\n",
       " [1] Covariance matrix calculated using the outer product of gradients (complex-step)."
      ],
      "text/plain": [
       "<class 'statsmodels.iolib.summary.Summary'>\n",
       "\"\"\"\n",
       "                               SARIMAX Results                                \n",
       "==============================================================================\n",
       "Dep. Variable:        dry_bulb_temp_f   No. Observations:                14054\n",
       "Model:               SARIMAX(2, 0, 0)   Log Likelihood              -26867.232\n",
       "Date:                Fri, 02 May 2025   AIC                          53740.465\n",
       "Time:                        05:11:48   BIC                          53763.117\n",
       "Sample:                    01-01-2016   HQIC                         53748.005\n",
       "                         - 08-08-2017                                         \n",
       "Covariance Type:                  opg                                         \n",
       "==============================================================================\n",
       "                 coef    std err          z      P>|z|      [0.025      0.975]\n",
       "------------------------------------------------------------------------------\n",
       "ar.L1          1.3242      0.006    220.175      0.000       1.312       1.336\n",
       "ar.L2         -0.3248      0.006    -53.852      0.000      -0.337      -0.313\n",
       "sigma2         2.6779      0.020    136.374      0.000       2.639       2.716\n",
       "===================================================================================\n",
       "Ljung-Box (L1) (Q):                  48.01   Jarque-Bera (JB):              7579.33\n",
       "Prob(Q):                              0.00   Prob(JB):                         0.00\n",
       "Heteroskedasticity (H):               0.99   Skew:                            -0.01\n",
       "Prob(H) (two-sided):                  0.75   Kurtosis:                         6.60\n",
       "===================================================================================\n",
       "\n",
       "Warnings:\n",
       "[1] Covariance matrix calculated using the outer product of gradients (complex-step).\n",
       "\"\"\""
      ]
     },
     "execution_count": 16,
     "metadata": {},
     "output_type": "execute_result"
    }
   ],
   "source": [
    "order = (2, 0, 0)\n",
    "model_ar2 = SARIMAX(X_train, order=order)\n",
    "results_ar2 = model_ar2.fit()\n",
    "results_ar2.summary()"
   ]
  },
  {
   "cell_type": "markdown",
   "id": "dfe7860e",
   "metadata": {
    "papermill": {
     "duration": 0.007026,
     "end_time": "2025-05-02T05:11:48.618274",
     "exception": false,
     "start_time": "2025-05-02T05:11:48.611248",
     "status": "completed"
    },
    "tags": []
   },
   "source": [
    "This time, the results table indicates a weight for variable `ar.L1` _and_ `ar.L2`. Note the values are now quite different from `1` (or `0.5` say, for a simple equally-weighted model). Next, we compute the RMSE on the validation set. "
   ]
  },
  {
   "cell_type": "code",
   "execution_count": 17,
   "id": "d551f557",
   "metadata": {
    "execution": {
     "iopub.execute_input": "2025-05-02T05:11:48.634339Z",
     "iopub.status.busy": "2025-05-02T05:11:48.633570Z",
     "iopub.status.idle": "2025-05-02T05:11:48.711836Z",
     "shell.execute_reply": "2025-05-02T05:11:48.711434Z"
    },
    "papermill": {
     "duration": 0.088124,
     "end_time": "2025-05-02T05:11:48.712668",
     "exception": false,
     "start_time": "2025-05-02T05:11:48.624544",
     "status": "completed"
    },
    "tags": []
   },
   "outputs": [
    {
     "name": "stdout",
     "output_type": "stream",
     "text": [
      "AR(2) RMSE:                   1.526\n",
      "AR(1) RMSE:                   1.692\n",
      "Baseline t-1 RMSE:            1.690\n"
     ]
    }
   ],
   "source": [
    "full_data_ar2 = SARIMAX(X_both, order=order)\n",
    "model_forecast_ar2 = full_data_ar2.filter(results_ar2.params)\n",
    "\n",
    "start = len(X_train)\n",
    "end = len(X_both)\n",
    "forecast_ar2 = model_forecast_ar2.predict(start=start, end=end - 1, dynamic=False)\n",
    "\n",
    "# compute print RMSE values\n",
    "rmse_ar2 = np.sqrt(mean_squared_error(baseline_val[Y_COL], forecast_ar2))\n",
    "print('AR(2) RMSE:                   {0:.3f}'.format(rmse_ar2))\n",
    "print('AR(1) RMSE:                   {0:.3f}'.format(rmse_ar1))\n",
    "print('Baseline t-1 RMSE:            {0:.3f}'.format(rmse_t1))"
   ]
  },
  {
   "cell_type": "markdown",
   "id": "46ac65cc",
   "metadata": {
    "papermill": {
     "duration": 0.004576,
     "end_time": "2025-05-02T05:11:48.722168",
     "exception": false,
     "start_time": "2025-05-02T05:11:48.717592",
     "status": "completed"
    },
    "tags": []
   },
   "source": [
    "We've improved the RMSE value by including information from the first two lags.\n",
    "\n",
    "In fact, you will see that if you continue to increase the `p` parameter value, the RMSE will continue to decrease, indicating that a few recent lags provide useful information to our model.\n",
    "\n",
    "#### 2.3 Incorporate moving averages\n",
    "\n",
    "Finally, what if we also include moving average information in our model? The ARIMA framework makes this easy to do, by setting the order parameter `q`. A value of `q=1` specifies a **MA(1)** model (including the first lag `t-1`), while `q=6` would include all the lags from `t-1` to `t-6`.\n",
    "\n",
    "Note that the moving average model component is a little different from the simple moving or rolling averages computed in the baseline models. The [definition of the MA model](https://en.wikipedia.org/wiki/Moving-average_model) is rather technical, but conceptually you can think of it as using a form of weighted moving average (compared to our baseline which would be a simple, unweighted average).\n",
    "\n",
    "Let's add an MA(1) component to our AR(2) model."
   ]
  },
  {
   "cell_type": "code",
   "execution_count": 18,
   "id": "7ba27ff4",
   "metadata": {
    "execution": {
     "iopub.execute_input": "2025-05-02T05:11:48.731899Z",
     "iopub.status.busy": "2025-05-02T05:11:48.731368Z",
     "iopub.status.idle": "2025-05-02T05:11:49.319531Z",
     "shell.execute_reply": "2025-05-02T05:11:49.318928Z"
    },
    "papermill": {
     "duration": 0.593876,
     "end_time": "2025-05-02T05:11:49.320363",
     "exception": false,
     "start_time": "2025-05-02T05:11:48.726487",
     "status": "completed"
    },
    "tags": []
   },
   "outputs": [
    {
     "name": "stdout",
     "output_type": "stream",
     "text": [
      "RUNNING THE L-BFGS-B CODE\n",
      "\n",
      "           * * *\n",
      "\n",
      "Machine precision = 2.220D-16\n",
      " N =            4     M =           10\n",
      "\n",
      "At X0         0 variables are exactly at the bounds\n",
      "\n",
      "At iterate    0    f=  1.90481D+00    |proj g|=  1.77883D-02\n"
     ]
    },
    {
     "name": "stderr",
     "output_type": "stream",
     "text": [
      "/opt/conda/lib/python3.9/site-packages/statsmodels/tsa/base/tsa_model.py:473: ValueWarning: No frequency information was provided, so inferred frequency h will be used.\n",
      "  self._init_dates(dates, freq)\n",
      "/opt/conda/lib/python3.9/site-packages/statsmodels/tsa/base/tsa_model.py:473: ValueWarning: No frequency information was provided, so inferred frequency h will be used.\n",
      "  self._init_dates(dates, freq)\n",
      " This problem is unconstrained.\n"
     ]
    },
    {
     "name": "stdout",
     "output_type": "stream",
     "text": [
      "\n",
      "At iterate    5    f=  1.89758D+00    |proj g|=  1.22439D-02\n"
     ]
    },
    {
     "name": "stdout",
     "output_type": "stream",
     "text": [
      "\n",
      "           * * *\n",
      "\n",
      "Tit   = total number of iterations\n",
      "Tnf   = total number of function evaluations\n",
      "Tnint = total number of segments explored during Cauchy searches\n",
      "Skip  = number of BFGS updates skipped\n",
      "Nact  = number of active bounds at final generalized Cauchy point\n",
      "Projg = norm of the final projected gradient\n",
      "F     = final function value\n",
      "\n",
      "           * * *\n",
      "\n",
      "   N    Tit     Tnf  Tnint  Skip  Nact     Projg        F\n",
      "    4      9     12      1     0     0   5.176D-06   1.897D+00\n",
      "  F =   1.8974711652743517     \n",
      "\n",
      "CONVERGENCE: NORM_OF_PROJECTED_GRADIENT_<=_PGTOL            \n"
     ]
    },
    {
     "data": {
      "text/html": [
       "<table class=\"simpletable\">\n",
       "<caption>SARIMAX Results</caption>\n",
       "<tr>\n",
       "  <th>Dep. Variable:</th>    <td>dry_bulb_temp_f</td> <th>  No. Observations:  </th>    <td>14054</td>  \n",
       "</tr>\n",
       "<tr>\n",
       "  <th>Model:</th>           <td>SARIMAX(2, 0, 1)</td> <th>  Log Likelihood     </th> <td>-26667.060</td>\n",
       "</tr>\n",
       "<tr>\n",
       "  <th>Date:</th>            <td>Fri, 02 May 2025</td> <th>  AIC                </th>  <td>53342.120</td>\n",
       "</tr>\n",
       "<tr>\n",
       "  <th>Time:</th>                <td>05:11:49</td>     <th>  BIC                </th>  <td>53372.322</td>\n",
       "</tr>\n",
       "<tr>\n",
       "  <th>Sample:</th>             <td>01-01-2016</td>    <th>  HQIC               </th>  <td>53352.172</td>\n",
       "</tr>\n",
       "<tr>\n",
       "  <th></th>                   <td>- 08-08-2017</td>   <th>                     </th>      <td> </td>    \n",
       "</tr>\n",
       "<tr>\n",
       "  <th>Covariance Type:</th>        <td>opg</td>       <th>                     </th>      <td> </td>    \n",
       "</tr>\n",
       "</table>\n",
       "<table class=\"simpletable\">\n",
       "<tr>\n",
       "     <td></td>       <th>coef</th>     <th>std err</th>      <th>z</th>      <th>P>|z|</th>  <th>[0.025</th>    <th>0.975]</th>  \n",
       "</tr>\n",
       "<tr>\n",
       "  <th>ar.L1</th>  <td>    1.6697</td> <td>    0.015</td> <td>  114.448</td> <td> 0.000</td> <td>    1.641</td> <td>    1.698</td>\n",
       "</tr>\n",
       "<tr>\n",
       "  <th>ar.L2</th>  <td>   -0.6700</td> <td>    0.015</td> <td>  -45.898</td> <td> 0.000</td> <td>   -0.699</td> <td>   -0.641</td>\n",
       "</tr>\n",
       "<tr>\n",
       "  <th>ma.L1</th>  <td>   -0.3825</td> <td>    0.016</td> <td>  -23.348</td> <td> 0.000</td> <td>   -0.415</td> <td>   -0.350</td>\n",
       "</tr>\n",
       "<tr>\n",
       "  <th>sigma2</th> <td>    2.6026</td> <td>    0.019</td> <td>  139.868</td> <td> 0.000</td> <td>    2.566</td> <td>    2.639</td>\n",
       "</tr>\n",
       "</table>\n",
       "<table class=\"simpletable\">\n",
       "<tr>\n",
       "  <th>Ljung-Box (L1) (Q):</th>     <td>9.80</td> <th>  Jarque-Bera (JB):  </th> <td>8834.61</td>\n",
       "</tr>\n",
       "<tr>\n",
       "  <th>Prob(Q):</th>                <td>0.00</td> <th>  Prob(JB):          </th>  <td>0.00</td>  \n",
       "</tr>\n",
       "<tr>\n",
       "  <th>Heteroskedasticity (H):</th> <td>1.00</td> <th>  Skew:              </th>  <td>-0.04</td> \n",
       "</tr>\n",
       "<tr>\n",
       "  <th>Prob(H) (two-sided):</th>    <td>0.92</td> <th>  Kurtosis:          </th>  <td>6.88</td>  \n",
       "</tr>\n",
       "</table><br/><br/>Warnings:<br/>[1] Covariance matrix calculated using the outer product of gradients (complex-step)."
      ],
      "text/latex": [
       "\\begin{center}\n",
       "\\begin{tabular}{lclc}\n",
       "\\toprule\n",
       "\\textbf{Dep. Variable:}          & dry\\_bulb\\_temp\\_f & \\textbf{  No. Observations:  } &   14054     \\\\\n",
       "\\textbf{Model:}                  &  SARIMAX(2, 0, 1)  & \\textbf{  Log Likelihood     } & -26667.060  \\\\\n",
       "\\textbf{Date:}                   &  Fri, 02 May 2025  & \\textbf{  AIC                } & 53342.120   \\\\\n",
       "\\textbf{Time:}                   &      05:11:49      & \\textbf{  BIC                } & 53372.322   \\\\\n",
       "\\textbf{Sample:}                 &     01-01-2016     & \\textbf{  HQIC               } & 53352.172   \\\\\n",
       "\\textbf{}                        &    - 08-08-2017    & \\textbf{                     } &             \\\\\n",
       "\\textbf{Covariance Type:}        &        opg         & \\textbf{                     } &             \\\\\n",
       "\\bottomrule\n",
       "\\end{tabular}\n",
       "\\begin{tabular}{lcccccc}\n",
       "                & \\textbf{coef} & \\textbf{std err} & \\textbf{z} & \\textbf{P$> |$z$|$} & \\textbf{[0.025} & \\textbf{0.975]}  \\\\\n",
       "\\midrule\n",
       "\\textbf{ar.L1}  &       1.6697  &        0.015     &   114.448  &         0.000        &        1.641    &        1.698     \\\\\n",
       "\\textbf{ar.L2}  &      -0.6700  &        0.015     &   -45.898  &         0.000        &       -0.699    &       -0.641     \\\\\n",
       "\\textbf{ma.L1}  &      -0.3825  &        0.016     &   -23.348  &         0.000        &       -0.415    &       -0.350     \\\\\n",
       "\\textbf{sigma2} &       2.6026  &        0.019     &   139.868  &         0.000        &        2.566    &        2.639     \\\\\n",
       "\\bottomrule\n",
       "\\end{tabular}\n",
       "\\begin{tabular}{lclc}\n",
       "\\textbf{Ljung-Box (L1) (Q):}     & 9.80 & \\textbf{  Jarque-Bera (JB):  } & 8834.61  \\\\\n",
       "\\textbf{Prob(Q):}                & 0.00 & \\textbf{  Prob(JB):          } &   0.00   \\\\\n",
       "\\textbf{Heteroskedasticity (H):} & 1.00 & \\textbf{  Skew:              } &  -0.04   \\\\\n",
       "\\textbf{Prob(H) (two-sided):}    & 0.92 & \\textbf{  Kurtosis:          } &   6.88   \\\\\n",
       "\\bottomrule\n",
       "\\end{tabular}\n",
       "%\\caption{SARIMAX Results}\n",
       "\\end{center}\n",
       "\n",
       "Warnings: \\newline\n",
       " [1] Covariance matrix calculated using the outer product of gradients (complex-step)."
      ],
      "text/plain": [
       "<class 'statsmodels.iolib.summary.Summary'>\n",
       "\"\"\"\n",
       "                               SARIMAX Results                                \n",
       "==============================================================================\n",
       "Dep. Variable:        dry_bulb_temp_f   No. Observations:                14054\n",
       "Model:               SARIMAX(2, 0, 1)   Log Likelihood              -26667.060\n",
       "Date:                Fri, 02 May 2025   AIC                          53342.120\n",
       "Time:                        05:11:49   BIC                          53372.322\n",
       "Sample:                    01-01-2016   HQIC                         53352.172\n",
       "                         - 08-08-2017                                         \n",
       "Covariance Type:                  opg                                         \n",
       "==============================================================================\n",
       "                 coef    std err          z      P>|z|      [0.025      0.975]\n",
       "------------------------------------------------------------------------------\n",
       "ar.L1          1.6697      0.015    114.448      0.000       1.641       1.698\n",
       "ar.L2         -0.6700      0.015    -45.898      0.000      -0.699      -0.641\n",
       "ma.L1         -0.3825      0.016    -23.348      0.000      -0.415      -0.350\n",
       "sigma2         2.6026      0.019    139.868      0.000       2.566       2.639\n",
       "===================================================================================\n",
       "Ljung-Box (L1) (Q):                   9.80   Jarque-Bera (JB):              8834.61\n",
       "Prob(Q):                              0.00   Prob(JB):                         0.00\n",
       "Heteroskedasticity (H):               1.00   Skew:                            -0.04\n",
       "Prob(H) (two-sided):                  0.92   Kurtosis:                         6.88\n",
       "===================================================================================\n",
       "\n",
       "Warnings:\n",
       "[1] Covariance matrix calculated using the outer product of gradients (complex-step).\n",
       "\"\"\""
      ]
     },
     "execution_count": 18,
     "metadata": {},
     "output_type": "execute_result"
    }
   ],
   "source": [
    "order = (2, 0, 1)\n",
    "model_ar2ma1 = SARIMAX(X_train, order=order)\n",
    "results_ar2ma1 = model_ar2ma1.fit()\n",
    "results_ar2ma1.summary()"
   ]
  },
  {
   "cell_type": "markdown",
   "id": "70fe86bb",
   "metadata": {
    "papermill": {
     "duration": 0.010196,
     "end_time": "2025-05-02T05:11:49.338952",
     "exception": false,
     "start_time": "2025-05-02T05:11:49.328756",
     "status": "completed"
    },
    "tags": []
   },
   "source": [
    "We see the results table shows an additional weight value for `ma.L1`, our MA(1) component. Next, we compare the RMSE to the other models and finally plot all the model forecasts together - _note_ we use a much smaller 48-hour window to make the plot readable for illustrative purposes. "
   ]
  },
  {
   "cell_type": "code",
   "execution_count": 19,
   "id": "c6504794",
   "metadata": {
    "execution": {
     "iopub.execute_input": "2025-05-02T05:11:49.357637Z",
     "iopub.status.busy": "2025-05-02T05:11:49.357373Z",
     "iopub.status.idle": "2025-05-02T05:11:49.470859Z",
     "shell.execute_reply": "2025-05-02T05:11:49.470291Z"
    },
    "papermill": {
     "duration": 0.124103,
     "end_time": "2025-05-02T05:11:49.471685",
     "exception": false,
     "start_time": "2025-05-02T05:11:49.347582",
     "status": "completed"
    },
    "tags": []
   },
   "outputs": [
    {
     "name": "stdout",
     "output_type": "stream",
     "text": [
      "AR(2) MA(1) RMSE:             1.491\n",
      "AR(2) RMSE:                   1.526\n",
      "AR(1) RMSE:                   1.692\n",
      "Baseline t-1 RMSE:            1.690\n"
     ]
    }
   ],
   "source": [
    "full_data_ar2ma1 = SARIMAX(X_both, order=order)\n",
    "model_forecast_ar2ma1 = full_data_ar2ma1.filter(results_ar2ma1.params)\n",
    "\n",
    "start = len(X_train)\n",
    "end = len(X_both)\n",
    "forecast_ar2ma1 = model_forecast_ar2ma1.predict(start=start, end=end - 1, dynamic=False)\n",
    "\n",
    "# compute print RMSE values\n",
    "rmse_ar2ma1 = np.sqrt(mean_squared_error(baseline_val[Y_COL], forecast_ar2ma1))\n",
    "print('AR(2) MA(1) RMSE:             {0:.3f}'.format(rmse_ar2ma1))\n",
    "print('AR(2) RMSE:                   {0:.3f}'.format(rmse_ar2))\n",
    "print('AR(1) RMSE:                   {0:.3f}'.format(rmse_ar1))\n",
    "print('Baseline t-1 RMSE:            {0:.3f}'.format(rmse_t1))"
   ]
  },
  {
   "cell_type": "code",
   "execution_count": 20,
   "id": "46c5427d",
   "metadata": {
    "execution": {
     "iopub.execute_input": "2025-05-02T05:11:49.484130Z",
     "iopub.status.busy": "2025-05-02T05:11:49.483488Z",
     "iopub.status.idle": "2025-05-02T05:11:49.582585Z",
     "shell.execute_reply": "2025-05-02T05:11:49.581835Z"
    },
    "papermill": {
     "duration": 0.106786,
     "end_time": "2025-05-02T05:11:49.583609",
     "exception": false,
     "start_time": "2025-05-02T05:11:49.476823",
     "status": "completed"
    },
    "tags": []
   },
   "outputs": [
    {
     "data": {
      "image/png": "[encoded data removed]",
      "text/plain": [
       "<Figure size 600x400 with 1 Axes>"
      ]
     },
     "metadata": {
      "needs_background": "light"
     },
     "output_type": "display_data"
    }
   ],
   "source": [
    "# plot actual vs predicted values for a smaller 2-day window for easier viewing\n",
    "hrs = 48\n",
    "plt.plot(sliced[Y_COL][:hrs].values)\n",
    "plt.plot(forecast_ar1[:hrs], color='r', linestyle='--')\n",
    "plt.plot(forecast_ar2[:hrs], color='g', linestyle='--')\n",
    "plt.plot(forecast_ar2ma1[:hrs], color='c', linestyle='--')\n",
    "plt.legend(['t', 'AR(1)', 'AR(2)', 'AR(2) MA(1)'], loc=2, ncol=1)\n",
    "plt.title('ARIMA Model Predictions for First 48 hours of Validation Set')\n",
    "plt.ylabel('Temperature (F)')\n",
    "plt.tight_layout()\n",
    "plt.show()"
   ]
  },
  {
   "cell_type": "markdown",
   "id": "98876124",
   "metadata": {
    "papermill": {
     "duration": 0.005237,
     "end_time": "2025-05-02T05:11:49.596619",
     "exception": false,
     "start_time": "2025-05-02T05:11:49.591382",
     "status": "completed"
    },
    "tags": []
   },
   "source": [
    "We've again managed to reduce the RMSE value for our model, indicating that adding the MA(1) component has improved our forecast!\n",
    "\n",
    "Congratulations! You've applied the basics of time-series analysis for forecasting hourly temperatures. See if you can further improve the RMSE values by exploring the different values for the model parameters `p`, `q` and even `d`!\n",
    "\n",
    "<a id=\"authors\"></a> \n",
    "### Authors\n",
    "\n",
    "This notebook was created by the [Center for Open-Source Data & AI Technologies](http://codait.org).\n",
    "\n",
    "Copyright © 2019 IBM. This notebook and its source code are released under the terms of the MIT License."
   ]
  }
 ],
 "metadata": {
  "kernelspec": {
   "display_name": "Python 3",
   "language": "python",
   "name": "python3"
  },
  "language_info": {
   "codemirror_mode": {
    "name": "ipython",
    "version": 3
   },
   "file_extension": ".py",
   "mimetype": "text/x-python",
   "name": "python",
   "nbconvert_exporter": "python",
   "pygments_lexer": "ipython3",
   "version": "3.9.7"
  },
  "papermill": {
   "duration": 8.027757,
   "end_time": "2025-05-02T05:11:49.919103",
   "environment_variables": {},
   "exception": null,
   "input_path": "/home/jovyan/examples/pipelines/introduction-to-generic-pipelines/Part 3 - Time Series Forecasting.ipynb",
   "output_path": "/home/jovyan/examples/pipelines/introduction-to-generic-pipelines/Part 3 - Time Series Forecasting.ipynb",
   "parameters": {},
   "start_time": "2025-05-02T05:11:41.891346",
   "version": "2.1.1"
  }
 },
 "nbformat": 4,
 "nbformat_minor": 5
}