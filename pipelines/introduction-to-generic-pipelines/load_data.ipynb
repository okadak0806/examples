{
 "cells": [
  {
   "cell_type": "markdown",
   "id": "10e2d643",
   "metadata": {
    "papermill": {
     "duration": 0.001407,
     "end_time": "2025-05-02T05:11:36.100623",
     "exception": false,
     "start_time": "2025-05-02T05:11:36.099216",
     "status": "completed"
    },
    "tags": []
   },
   "source": [
    "## Download a data set\n",
    "\n",
    "This notebook downloads a data set file from a public location. If the data set file is a compressed archive it will be decompressed. Upon completion the raw data set files  are located in the `data\\` directory.\n",
    "\n",
    "This notebook requires the following environment variables:\n",
    " -  `DATASET_URL` Public data set URL, e.g. `https://dax-cdn.cdn.appdomain.cloud/dax-fashion-mnist/1.0.2/fashion-mnist.tar.gz`"
   ]
  },
  {
   "cell_type": "code",
   "execution_count": 1,
   "id": "8a2f3aab",
   "metadata": {
    "execution": {
     "iopub.execute_input": "2025-05-02T05:11:36.105358Z",
     "iopub.status.busy": "2025-05-02T05:11:36.105056Z",
     "iopub.status.idle": "2025-05-02T05:11:36.144117Z",
     "shell.execute_reply": "2025-05-02T05:11:36.143409Z"
    },
    "papermill": {
     "duration": 0.04225,
     "end_time": "2025-05-02T05:11:36.145371",
     "exception": false,
     "start_time": "2025-05-02T05:11:36.103121",
     "status": "completed"
    },
    "tags": []
   },
   "outputs": [],
   "source": [
    "import glob\n",
    "import json\n",
    "import os\n",
    "from pathlib import Path\n",
    "import requests\n",
    "import tarfile\n",
    "from urllib.parse import urlparse"
   ]
  },
  {
   "cell_type": "markdown",
   "id": "0efbe465",
   "metadata": {
    "papermill": {
     "duration": 0.000934,
     "end_time": "2025-05-02T05:11:36.147439",
     "exception": false,
     "start_time": "2025-05-02T05:11:36.146505",
     "status": "completed"
    },
    "tags": []
   },
   "source": [
    "Verify that the `DATASET_URL` environment variable is set. If it is not set, a RuntimeError is raised."
   ]
  },
  {
   "cell_type": "code",
   "execution_count": 2,
   "id": "a4ffffc4",
   "metadata": {
    "execution": {
     "iopub.execute_input": "2025-05-02T05:11:36.150262Z",
     "iopub.status.busy": "2025-05-02T05:11:36.149815Z",
     "iopub.status.idle": "2025-05-02T05:11:36.152463Z",
     "shell.execute_reply": "2025-05-02T05:11:36.151964Z"
    },
    "papermill": {
     "duration": 0.005015,
     "end_time": "2025-05-02T05:11:36.153337",
     "exception": false,
     "start_time": "2025-05-02T05:11:36.148322",
     "status": "completed"
    },
    "tags": []
   },
   "outputs": [],
   "source": [
    "data_file = os.getenv('DATASET_URL',\n",
    "                      'https://dax-cdn.cdn.appdomain.cloud/'\n",
    "                      'dax-noaa-weather-data-jfk-airport/1.1.4/'\n",
    "                      'noaa-weather-data-jfk-airport.tar.gz')"
   ]
  },
  {
   "cell_type": "markdown",
   "id": "85cfa27c",
   "metadata": {
    "papermill": {
     "duration": 0.000918,
     "end_time": "2025-05-02T05:11:36.155169",
     "exception": false,
     "start_time": "2025-05-02T05:11:36.154251",
     "status": "completed"
    },
    "tags": []
   },
   "source": [
    "Download the data set from the location specified in `dataset_url`, extract it (if it is compressed) and store it in the directory identified by `data_dir_name`."
   ]
  },
  {
   "cell_type": "code",
   "execution_count": 3,
   "id": "3aabd20a",
   "metadata": {
    "execution": {
     "iopub.execute_input": "2025-05-02T05:11:36.157409Z",
     "iopub.status.busy": "2025-05-02T05:11:36.157265Z",
     "iopub.status.idle": "2025-05-02T05:11:36.507851Z",
     "shell.execute_reply": "2025-05-02T05:11:36.507196Z"
    },
    "papermill": {
     "duration": 0.352896,
     "end_time": "2025-05-02T05:11:36.508885",
     "exception": false,
     "start_time": "2025-05-02T05:11:36.155989",
     "status": "completed"
    },
    "tags": []
   },
   "outputs": [
    {
     "name": "stdout",
     "output_type": "stream",
     "text": [
      "Downloading data file https://dax-cdn.cdn.appdomain.cloud/dax-noaa-weather-data-jfk-airport/1.1.4/noaa-weather-data-jfk-airport.tar.gz ...\n"
     ]
    },
    {
     "name": "stdout",
     "output_type": "stream",
     "text": [
      "Saving downloaded file \"noaa-weather-data-jfk-airport.tar.gz\" as ...\n",
      "Extracting downloaded file in directory \"data\" ...\n",
      "Removing downloaded file ...\n"
     ]
    }
   ],
   "source": [
    "data_dir_name = 'data'\n",
    "\n",
    "print('Downloading data file {} ...'.format(data_file))\n",
    "r = requests.get(data_file)\n",
    "if r.status_code != 200:\n",
    "    raise RuntimeError('Could not fetch {}: HTTP status code {}'\n",
    "                       .format(data_file, r.status_code))\n",
    "else:\n",
    "    # extract data set file name from URL\n",
    "    data_file_name = Path((urlparse(data_file).path)).name\n",
    "    # create the directory where the downloaded file will be stored\n",
    "    data_dir = Path(data_dir_name)\n",
    "    data_dir.mkdir(parents=True, exist_ok=True)\n",
    "    downloaded_data_file = data_dir / data_file_name\n",
    "\n",
    "    print('Saving downloaded file \"{}\" as ...'.format(data_file_name))\n",
    "    with open(downloaded_data_file, 'wb') as downloaded_file:\n",
    "        downloaded_file.write(r.content)\n",
    "\n",
    "    if r.headers['content-type'] == 'application/x-tar':\n",
    "        print('Extracting downloaded file in directory \"{}\" ...'\n",
    "              .format(data_dir))\n",
    "        with tarfile.open(downloaded_data_file, 'r') as tar:\n",
    "            tar.extractall(data_dir)\n",
    "        print('Removing downloaded file ...')\n",
    "        downloaded_data_file.unlink()"
   ]
  },
  {
   "cell_type": "markdown",
   "id": "c0edca62",
   "metadata": {
    "papermill": {
     "duration": 0.00114,
     "end_time": "2025-05-02T05:11:36.511476",
     "exception": false,
     "start_time": "2025-05-02T05:11:36.510336",
     "status": "completed"
    },
    "tags": []
   },
   "source": [
    "Display list of extracted data files"
   ]
  },
  {
   "cell_type": "code",
   "execution_count": 4,
   "id": "d7d542ea",
   "metadata": {
    "execution": {
     "iopub.execute_input": "2025-05-02T05:11:36.514666Z",
     "iopub.status.busy": "2025-05-02T05:11:36.514289Z",
     "iopub.status.idle": "2025-05-02T05:11:36.518195Z",
     "shell.execute_reply": "2025-05-02T05:11:36.517708Z"
    },
    "papermill": {
     "duration": 0.006385,
     "end_time": "2025-05-02T05:11:36.518919",
     "exception": false,
     "start_time": "2025-05-02T05:11:36.512534",
     "status": "completed"
    },
    "tags": []
   },
   "outputs": [
    {
     "name": "stdout",
     "output_type": "stream",
     "text": [
      "data/README.md\n",
      "data/iris.data\n",
      "data/iris.names\n",
      "data/noaa-weather-data-jfk-airport\n",
      "data/noaa-weather-data-jfk-airport/jfk_weather_cleaned.csv\n",
      "data/noaa-weather-data-jfk-airport/clean_data.py\n",
      "data/noaa-weather-data-jfk-airport/jfk_weather.csv\n",
      "data/noaa-weather-data-jfk-airport/LICENSE.txt\n",
      "data/noaa-weather-data-jfk-airport/README.txt\n"
     ]
    }
   ],
   "source": [
    "for entry in glob.glob(data_dir_name + \"/**/*\", recursive=True):\n",
    "    print(entry)"
   ]
  },
  {
   "cell_type": "markdown",
   "id": "f9c7cb8d",
   "metadata": {
    "papermill": {
     "duration": 0.001063,
     "end_time": "2025-05-02T05:11:36.520997",
     "exception": false,
     "start_time": "2025-05-02T05:11:36.519934",
     "status": "completed"
    },
    "tags": []
   },
   "source": [
    "A notebook can produce output that is visualized in the Kubeflow Pipelines UI. For illustrative purposes we log the data set download URL. Refer to the [documentation](https://elyra.readthedocs.io/en/latest/recipes/visualizing-output-in-the-kfp-ui.html) to learn about supported visualization types and additional examples."
   ]
  },
  {
   "cell_type": "code",
   "execution_count": 5,
   "id": "e0f2fcde",
   "metadata": {
    "execution": {
     "iopub.execute_input": "2025-05-02T05:11:36.523522Z",
     "iopub.status.busy": "2025-05-02T05:11:36.523273Z",
     "iopub.status.idle": "2025-05-02T05:11:36.526771Z",
     "shell.execute_reply": "2025-05-02T05:11:36.526065Z"
    },
    "papermill": {
     "duration": 0.00557,
     "end_time": "2025-05-02T05:11:36.527477",
     "exception": false,
     "start_time": "2025-05-02T05:11:36.521907",
     "status": "completed"
    },
    "tags": []
   },
   "outputs": [],
   "source": [
    "if os.environ.get('ELYRA_RUNTIME_ENV') == 'kfp':\n",
    "    # For information about Elyra environment variables refer to\n",
    "    # https://elyra.readthedocs.io/en/stable/user_guide/best-practices-file-based-nodes.html#proprietary-environment-variables # noqa: E501\n",
    "\n",
    "    metadata = {\n",
    "        'outputs': [\n",
    "            {\n",
    "                'storage': 'inline',\n",
    "                'source': '# Data archive URL: {}'\n",
    "                          .format(data_file),\n",
    "                'type': 'markdown',\n",
    "            }]\n",
    "    }\n",
    "\n",
    "    with open('mlpipeline-ui-metadata.json', 'w') as f:\n",
    "        json.dump(metadata, f)"
   ]
  }
 ],
 "metadata": {
  "kernelspec": {
   "display_name": "Python 3 (ipykernel)",
   "language": "python",
   "name": "python3"
  },
  "language_info": {
   "codemirror_mode": {
    "name": "ipython",
    "version": 3
   },
   "file_extension": ".py",
   "mimetype": "text/x-python",
   "name": "python",
   "nbconvert_exporter": "python",
   "pygments_lexer": "ipython3",
   "version": "3.9.7"
  },
  "papermill": {
   "duration": 1.073652,
   "end_time": "2025-05-02T05:11:36.643334",
   "environment_variables": {},
   "exception": null,
   "input_path": "/home/jovyan/examples/pipelines/introduction-to-generic-pipelines/load_data.ipynb",
   "output_path": "/home/jovyan/examples/pipelines/introduction-to-generic-pipelines/load_data.ipynb",
   "parameters": {},
   "start_time": "2025-05-02T05:11:35.569682",
   "version": "2.1.1"
  }
 },
 "nbformat": 4,
 "nbformat_minor": 5
}